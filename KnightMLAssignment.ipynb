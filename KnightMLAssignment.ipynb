{
 "cells": [
  {
   "cell_type": "code",
   "execution_count": 1,
   "metadata": {},
   "outputs": [],
   "source": [
    "import pandas as pd  \n",
    "import numpy as np \n",
    "\n",
    "\n",
    "import matplotlib.pyplot as plt \n",
    "import seaborn as sns\n",
    "from plotnine import *\n",
    "from sklearn.preprocessing import LabelEncoder\n",
    "from nltk.corpus import stopwords\n",
    "import re\n",
    "from sklearn.feature_extraction.text import CountVectorizer\n",
    "from sklearn.model_selection import train_test_split\n",
    "\n",
    "sw = stopwords.words('english')"
   ]
  },
  {
   "cell_type": "code",
   "execution_count": 2,
   "metadata": {},
   "outputs": [
    {
     "data": {
      "text/html": [
       "<div>\n",
       "<style scoped>\n",
       "    .dataframe tbody tr th:only-of-type {\n",
       "        vertical-align: middle;\n",
       "    }\n",
       "\n",
       "    .dataframe tbody tr th {\n",
       "        vertical-align: top;\n",
       "    }\n",
       "\n",
       "    .dataframe thead th {\n",
       "        text-align: right;\n",
       "    }\n",
       "</style>\n",
       "<table border=\"1\" class=\"dataframe\">\n",
       "  <thead>\n",
       "    <tr style=\"text-align: right;\">\n",
       "      <th></th>\n",
       "      <th>user_name</th>\n",
       "      <th>country</th>\n",
       "      <th>review_title</th>\n",
       "      <th>review_description</th>\n",
       "      <th>designation</th>\n",
       "      <th>points</th>\n",
       "      <th>price</th>\n",
       "      <th>province</th>\n",
       "      <th>region_1</th>\n",
       "      <th>region_2</th>\n",
       "      <th>winery</th>\n",
       "      <th>variety</th>\n",
       "    </tr>\n",
       "  </thead>\n",
       "  <tbody>\n",
       "    <tr>\n",
       "      <th>0</th>\n",
       "      <td>NaN</td>\n",
       "      <td>Australia</td>\n",
       "      <td>Andrew Peace 2007 Peace Family Vineyard Chardo...</td>\n",
       "      <td>Classic Chardonnay aromas of apple, pear and h...</td>\n",
       "      <td>Peace Family Vineyard</td>\n",
       "      <td>83</td>\n",
       "      <td>10.0</td>\n",
       "      <td>Australia Other</td>\n",
       "      <td>South Eastern Australia</td>\n",
       "      <td>NaN</td>\n",
       "      <td>Andrew Peace</td>\n",
       "      <td>Chardonnay</td>\n",
       "    </tr>\n",
       "    <tr>\n",
       "      <th>1</th>\n",
       "      <td>@wawinereport</td>\n",
       "      <td>US</td>\n",
       "      <td>North by Northwest 2014 Red (Columbia Valley (...</td>\n",
       "      <td>This wine is near equal parts Syrah and Merlot...</td>\n",
       "      <td>NaN</td>\n",
       "      <td>89</td>\n",
       "      <td>15.0</td>\n",
       "      <td>Washington</td>\n",
       "      <td>Columbia Valley (WA)</td>\n",
       "      <td>Columbia Valley</td>\n",
       "      <td>North by Northwest</td>\n",
       "      <td>Red Blend</td>\n",
       "    </tr>\n",
       "    <tr>\n",
       "      <th>2</th>\n",
       "      <td>NaN</td>\n",
       "      <td>Italy</td>\n",
       "      <td>Renato Ratti 2007 Conca  (Barolo)</td>\n",
       "      <td>Barolo Conca opens with inky dark concentratio...</td>\n",
       "      <td>Conca</td>\n",
       "      <td>94</td>\n",
       "      <td>80.0</td>\n",
       "      <td>Piedmont</td>\n",
       "      <td>Barolo</td>\n",
       "      <td>NaN</td>\n",
       "      <td>Renato Ratti</td>\n",
       "      <td>Nebbiolo</td>\n",
       "    </tr>\n",
       "    <tr>\n",
       "      <th>3</th>\n",
       "      <td>@vossroger</td>\n",
       "      <td>France</td>\n",
       "      <td>Domaine l'Ancienne Cure 2010 L'Abbaye White (B...</td>\n",
       "      <td>It's impressive what a small addition of Sauvi...</td>\n",
       "      <td>L'Abbaye</td>\n",
       "      <td>87</td>\n",
       "      <td>22.0</td>\n",
       "      <td>Southwest France</td>\n",
       "      <td>Bergerac Sec</td>\n",
       "      <td>NaN</td>\n",
       "      <td>Domaine l'Ancienne Cure</td>\n",
       "      <td>Bordeaux-style White Blend</td>\n",
       "    </tr>\n",
       "    <tr>\n",
       "      <th>4</th>\n",
       "      <td>@vossroger</td>\n",
       "      <td>France</td>\n",
       "      <td>Château du Cèdre 2012 Le Cèdre Vintage Malbec ...</td>\n",
       "      <td>This ripe, sweet wine is rich and full of drie...</td>\n",
       "      <td>Le Cèdre Vintage</td>\n",
       "      <td>88</td>\n",
       "      <td>33.0</td>\n",
       "      <td>France Other</td>\n",
       "      <td>Vin de Liqueur</td>\n",
       "      <td>NaN</td>\n",
       "      <td>Château du Cèdre</td>\n",
       "      <td>Malbec</td>\n",
       "    </tr>\n",
       "  </tbody>\n",
       "</table>\n",
       "</div>"
      ],
      "text/plain": [
       "       user_name    country  \\\n",
       "0            NaN  Australia   \n",
       "1  @wawinereport         US   \n",
       "2            NaN      Italy   \n",
       "3     @vossroger     France   \n",
       "4     @vossroger     France   \n",
       "\n",
       "                                        review_title  \\\n",
       "0  Andrew Peace 2007 Peace Family Vineyard Chardo...   \n",
       "1  North by Northwest 2014 Red (Columbia Valley (...   \n",
       "2                  Renato Ratti 2007 Conca  (Barolo)   \n",
       "3  Domaine l'Ancienne Cure 2010 L'Abbaye White (B...   \n",
       "4  Château du Cèdre 2012 Le Cèdre Vintage Malbec ...   \n",
       "\n",
       "                                  review_description            designation  \\\n",
       "0  Classic Chardonnay aromas of apple, pear and h...  Peace Family Vineyard   \n",
       "1  This wine is near equal parts Syrah and Merlot...                    NaN   \n",
       "2  Barolo Conca opens with inky dark concentratio...                  Conca   \n",
       "3  It's impressive what a small addition of Sauvi...               L'Abbaye   \n",
       "4  This ripe, sweet wine is rich and full of drie...       Le Cèdre Vintage   \n",
       "\n",
       "   points  price          province                 region_1         region_2  \\\n",
       "0      83   10.0   Australia Other  South Eastern Australia              NaN   \n",
       "1      89   15.0        Washington     Columbia Valley (WA)  Columbia Valley   \n",
       "2      94   80.0          Piedmont                   Barolo              NaN   \n",
       "3      87   22.0  Southwest France             Bergerac Sec              NaN   \n",
       "4      88   33.0      France Other           Vin de Liqueur              NaN   \n",
       "\n",
       "                    winery                     variety  \n",
       "0             Andrew Peace                  Chardonnay  \n",
       "1       North by Northwest                   Red Blend  \n",
       "2             Renato Ratti                    Nebbiolo  \n",
       "3  Domaine l'Ancienne Cure  Bordeaux-style White Blend  \n",
       "4         Château du Cèdre                      Malbec  "
      ]
     },
     "execution_count": 2,
     "metadata": {},
     "output_type": "execute_result"
    }
   ],
   "source": [
    "user_reviews = pd.read_csv(\"Data/train.csv\")\n",
    "user_reviews.head()"
   ]
  },
  {
   "cell_type": "markdown",
   "metadata": {},
   "source": [
    "# Data Preprocessing"
   ]
  },
  {
   "cell_type": "code",
   "execution_count": 3,
   "metadata": {},
   "outputs": [
    {
     "name": "stdout",
     "output_type": "stream",
     "text": [
      "<class 'pandas.core.frame.DataFrame'>\n",
      "RangeIndex: 82657 entries, 0 to 82656\n",
      "Data columns (total 12 columns):\n",
      " #   Column              Non-Null Count  Dtype  \n",
      "---  ------              --------------  -----  \n",
      " 0   user_name           63264 non-null  object \n",
      " 1   country             82622 non-null  object \n",
      " 2   review_title        82657 non-null  object \n",
      " 3   review_description  82657 non-null  object \n",
      " 4   designation         59010 non-null  object \n",
      " 5   points              82657 non-null  int64  \n",
      " 6   price               77088 non-null  float64\n",
      " 7   province            82622 non-null  object \n",
      " 8   region_1            69903 non-null  object \n",
      " 9   region_2            35949 non-null  object \n",
      " 10  winery              82657 non-null  object \n",
      " 11  variety             82657 non-null  object \n",
      "dtypes: float64(1), int64(1), object(10)\n",
      "memory usage: 7.6+ MB\n"
     ]
    }
   ],
   "source": [
    "user_reviews.info()"
   ]
  },
  {
   "cell_type": "code",
   "execution_count": 4,
   "metadata": {},
   "outputs": [
    {
     "data": {
      "text/plain": [
       "user_name             19393\n",
       "country                  35\n",
       "review_title              0\n",
       "review_description        0\n",
       "designation           23647\n",
       "points                    0\n",
       "price                  5569\n",
       "province                 35\n",
       "region_1              12754\n",
       "region_2              46708\n",
       "winery                    0\n",
       "variety                   0\n",
       "dtype: int64"
      ]
     },
     "execution_count": 4,
     "metadata": {},
     "output_type": "execute_result"
    }
   ],
   "source": [
    "user_reviews.isnull().sum()"
   ]
  },
  {
   "cell_type": "code",
   "execution_count": 5,
   "metadata": {},
   "outputs": [
    {
     "data": {
      "text/plain": [
       "28"
      ]
     },
     "execution_count": 5,
     "metadata": {},
     "output_type": "execute_result"
    }
   ],
   "source": [
    "len(user_reviews['variety'].unique())"
   ]
  },
  {
   "cell_type": "code",
   "execution_count": 6,
   "metadata": {},
   "outputs": [
    {
     "data": {
      "text/plain": [
       "(82657, 12)"
      ]
     },
     "execution_count": 6,
     "metadata": {},
     "output_type": "execute_result"
    }
   ],
   "source": [
    "user_reviews.shape"
   ]
  },
  {
   "cell_type": "code",
   "execution_count": 7,
   "metadata": {},
   "outputs": [],
   "source": [
    "user_reviews['user_name']=user_reviews['user_name'].fillna(method='bfill')\n"
   ]
  },
  {
   "cell_type": "code",
   "execution_count": 8,
   "metadata": {},
   "outputs": [
    {
     "data": {
      "text/plain": [
       "user_name                 1\n",
       "country                  35\n",
       "review_title              0\n",
       "review_description        0\n",
       "designation           23647\n",
       "points                    0\n",
       "price                  5569\n",
       "province                 35\n",
       "region_1              12754\n",
       "region_2              46708\n",
       "winery                    0\n",
       "variety                   0\n",
       "dtype: int64"
      ]
     },
     "execution_count": 8,
     "metadata": {},
     "output_type": "execute_result"
    }
   ],
   "source": [
    "user_reviews.isnull().sum()"
   ]
  },
  {
   "cell_type": "code",
   "execution_count": 9,
   "metadata": {},
   "outputs": [],
   "source": [
    "user_reviews.region_2.fillna(user_reviews.region_1, inplace=True)"
   ]
  },
  {
   "cell_type": "code",
   "execution_count": 10,
   "metadata": {},
   "outputs": [
    {
     "data": {
      "text/html": [
       "<div>\n",
       "<style scoped>\n",
       "    .dataframe tbody tr th:only-of-type {\n",
       "        vertical-align: middle;\n",
       "    }\n",
       "\n",
       "    .dataframe tbody tr th {\n",
       "        vertical-align: top;\n",
       "    }\n",
       "\n",
       "    .dataframe thead th {\n",
       "        text-align: right;\n",
       "    }\n",
       "</style>\n",
       "<table border=\"1\" class=\"dataframe\">\n",
       "  <thead>\n",
       "    <tr style=\"text-align: right;\">\n",
       "      <th></th>\n",
       "      <th>user_name</th>\n",
       "      <th>country</th>\n",
       "      <th>review_title</th>\n",
       "      <th>review_description</th>\n",
       "      <th>designation</th>\n",
       "      <th>points</th>\n",
       "      <th>price</th>\n",
       "      <th>province</th>\n",
       "      <th>region_1</th>\n",
       "      <th>region_2</th>\n",
       "      <th>winery</th>\n",
       "      <th>variety</th>\n",
       "    </tr>\n",
       "  </thead>\n",
       "  <tbody>\n",
       "    <tr>\n",
       "      <th>0</th>\n",
       "      <td>@wawinereport</td>\n",
       "      <td>Australia</td>\n",
       "      <td>Andrew Peace 2007 Peace Family Vineyard Chardo...</td>\n",
       "      <td>Classic Chardonnay aromas of apple, pear and h...</td>\n",
       "      <td>Peace Family Vineyard</td>\n",
       "      <td>83</td>\n",
       "      <td>10.0</td>\n",
       "      <td>Australia Other</td>\n",
       "      <td>South Eastern Australia</td>\n",
       "      <td>South Eastern Australia</td>\n",
       "      <td>Andrew Peace</td>\n",
       "      <td>Chardonnay</td>\n",
       "    </tr>\n",
       "    <tr>\n",
       "      <th>1</th>\n",
       "      <td>@wawinereport</td>\n",
       "      <td>US</td>\n",
       "      <td>North by Northwest 2014 Red (Columbia Valley (...</td>\n",
       "      <td>This wine is near equal parts Syrah and Merlot...</td>\n",
       "      <td>NaN</td>\n",
       "      <td>89</td>\n",
       "      <td>15.0</td>\n",
       "      <td>Washington</td>\n",
       "      <td>Columbia Valley (WA)</td>\n",
       "      <td>Columbia Valley</td>\n",
       "      <td>North by Northwest</td>\n",
       "      <td>Red Blend</td>\n",
       "    </tr>\n",
       "    <tr>\n",
       "      <th>2</th>\n",
       "      <td>@vossroger</td>\n",
       "      <td>Italy</td>\n",
       "      <td>Renato Ratti 2007 Conca  (Barolo)</td>\n",
       "      <td>Barolo Conca opens with inky dark concentratio...</td>\n",
       "      <td>Conca</td>\n",
       "      <td>94</td>\n",
       "      <td>80.0</td>\n",
       "      <td>Piedmont</td>\n",
       "      <td>Barolo</td>\n",
       "      <td>Barolo</td>\n",
       "      <td>Renato Ratti</td>\n",
       "      <td>Nebbiolo</td>\n",
       "    </tr>\n",
       "    <tr>\n",
       "      <th>3</th>\n",
       "      <td>@vossroger</td>\n",
       "      <td>France</td>\n",
       "      <td>Domaine l'Ancienne Cure 2010 L'Abbaye White (B...</td>\n",
       "      <td>It's impressive what a small addition of Sauvi...</td>\n",
       "      <td>L'Abbaye</td>\n",
       "      <td>87</td>\n",
       "      <td>22.0</td>\n",
       "      <td>Southwest France</td>\n",
       "      <td>Bergerac Sec</td>\n",
       "      <td>Bergerac Sec</td>\n",
       "      <td>Domaine l'Ancienne Cure</td>\n",
       "      <td>Bordeaux-style White Blend</td>\n",
       "    </tr>\n",
       "    <tr>\n",
       "      <th>4</th>\n",
       "      <td>@vossroger</td>\n",
       "      <td>France</td>\n",
       "      <td>Château du Cèdre 2012 Le Cèdre Vintage Malbec ...</td>\n",
       "      <td>This ripe, sweet wine is rich and full of drie...</td>\n",
       "      <td>Le Cèdre Vintage</td>\n",
       "      <td>88</td>\n",
       "      <td>33.0</td>\n",
       "      <td>France Other</td>\n",
       "      <td>Vin de Liqueur</td>\n",
       "      <td>Vin de Liqueur</td>\n",
       "      <td>Château du Cèdre</td>\n",
       "      <td>Malbec</td>\n",
       "    </tr>\n",
       "  </tbody>\n",
       "</table>\n",
       "</div>"
      ],
      "text/plain": [
       "       user_name    country  \\\n",
       "0  @wawinereport  Australia   \n",
       "1  @wawinereport         US   \n",
       "2     @vossroger      Italy   \n",
       "3     @vossroger     France   \n",
       "4     @vossroger     France   \n",
       "\n",
       "                                        review_title  \\\n",
       "0  Andrew Peace 2007 Peace Family Vineyard Chardo...   \n",
       "1  North by Northwest 2014 Red (Columbia Valley (...   \n",
       "2                  Renato Ratti 2007 Conca  (Barolo)   \n",
       "3  Domaine l'Ancienne Cure 2010 L'Abbaye White (B...   \n",
       "4  Château du Cèdre 2012 Le Cèdre Vintage Malbec ...   \n",
       "\n",
       "                                  review_description            designation  \\\n",
       "0  Classic Chardonnay aromas of apple, pear and h...  Peace Family Vineyard   \n",
       "1  This wine is near equal parts Syrah and Merlot...                    NaN   \n",
       "2  Barolo Conca opens with inky dark concentratio...                  Conca   \n",
       "3  It's impressive what a small addition of Sauvi...               L'Abbaye   \n",
       "4  This ripe, sweet wine is rich and full of drie...       Le Cèdre Vintage   \n",
       "\n",
       "   points  price          province                 region_1  \\\n",
       "0      83   10.0   Australia Other  South Eastern Australia   \n",
       "1      89   15.0        Washington     Columbia Valley (WA)   \n",
       "2      94   80.0          Piedmont                   Barolo   \n",
       "3      87   22.0  Southwest France             Bergerac Sec   \n",
       "4      88   33.0      France Other           Vin de Liqueur   \n",
       "\n",
       "                  region_2                   winery  \\\n",
       "0  South Eastern Australia             Andrew Peace   \n",
       "1          Columbia Valley       North by Northwest   \n",
       "2                   Barolo             Renato Ratti   \n",
       "3             Bergerac Sec  Domaine l'Ancienne Cure   \n",
       "4           Vin de Liqueur         Château du Cèdre   \n",
       "\n",
       "                      variety  \n",
       "0                  Chardonnay  \n",
       "1                   Red Blend  \n",
       "2                    Nebbiolo  \n",
       "3  Bordeaux-style White Blend  \n",
       "4                      Malbec  "
      ]
     },
     "execution_count": 10,
     "metadata": {},
     "output_type": "execute_result"
    }
   ],
   "source": [
    "user_reviews.head()"
   ]
  },
  {
   "cell_type": "code",
   "execution_count": 11,
   "metadata": {},
   "outputs": [
    {
     "data": {
      "text/html": [
       "<div>\n",
       "<style scoped>\n",
       "    .dataframe tbody tr th:only-of-type {\n",
       "        vertical-align: middle;\n",
       "    }\n",
       "\n",
       "    .dataframe tbody tr th {\n",
       "        vertical-align: top;\n",
       "    }\n",
       "\n",
       "    .dataframe thead th {\n",
       "        text-align: right;\n",
       "    }\n",
       "</style>\n",
       "<table border=\"1\" class=\"dataframe\">\n",
       "  <thead>\n",
       "    <tr style=\"text-align: right;\">\n",
       "      <th></th>\n",
       "      <th>points</th>\n",
       "      <th>price</th>\n",
       "    </tr>\n",
       "  </thead>\n",
       "  <tbody>\n",
       "    <tr>\n",
       "      <th>count</th>\n",
       "      <td>82657.000000</td>\n",
       "      <td>77088.000000</td>\n",
       "    </tr>\n",
       "    <tr>\n",
       "      <th>mean</th>\n",
       "      <td>88.544564</td>\n",
       "      <td>36.922232</td>\n",
       "    </tr>\n",
       "    <tr>\n",
       "      <th>std</th>\n",
       "      <td>3.099649</td>\n",
       "      <td>43.698346</td>\n",
       "    </tr>\n",
       "    <tr>\n",
       "      <th>min</th>\n",
       "      <td>80.000000</td>\n",
       "      <td>4.000000</td>\n",
       "    </tr>\n",
       "    <tr>\n",
       "      <th>25%</th>\n",
       "      <td>86.000000</td>\n",
       "      <td>18.000000</td>\n",
       "    </tr>\n",
       "    <tr>\n",
       "      <th>50%</th>\n",
       "      <td>88.000000</td>\n",
       "      <td>27.000000</td>\n",
       "    </tr>\n",
       "    <tr>\n",
       "      <th>75%</th>\n",
       "      <td>91.000000</td>\n",
       "      <td>45.000000</td>\n",
       "    </tr>\n",
       "    <tr>\n",
       "      <th>max</th>\n",
       "      <td>100.000000</td>\n",
       "      <td>3300.000000</td>\n",
       "    </tr>\n",
       "  </tbody>\n",
       "</table>\n",
       "</div>"
      ],
      "text/plain": [
       "             points         price\n",
       "count  82657.000000  77088.000000\n",
       "mean      88.544564     36.922232\n",
       "std        3.099649     43.698346\n",
       "min       80.000000      4.000000\n",
       "25%       86.000000     18.000000\n",
       "50%       88.000000     27.000000\n",
       "75%       91.000000     45.000000\n",
       "max      100.000000   3300.000000"
      ]
     },
     "execution_count": 11,
     "metadata": {},
     "output_type": "execute_result"
    }
   ],
   "source": [
    "user_reviews.describe()"
   ]
  },
  {
   "cell_type": "code",
   "execution_count": 12,
   "metadata": {},
   "outputs": [],
   "source": [
    "from sklearn.impute import SimpleImputer\n",
    "user_reviews_price_array = np.array(user_reviews[\"price\"])\n",
    "imputer = SimpleImputer(strategy = \"mean\")\n",
    "user_reviews[\"price\"] = imputer.fit_transform(user_reviews_price_array.reshape(-1,1))"
   ]
  },
  {
   "cell_type": "code",
   "execution_count": 13,
   "metadata": {},
   "outputs": [
    {
     "data": {
      "text/plain": [
       "user_name                 1\n",
       "country                  35\n",
       "review_title              0\n",
       "review_description        0\n",
       "designation           23647\n",
       "points                    0\n",
       "price                     0\n",
       "province                 35\n",
       "region_1              12754\n",
       "region_2              12754\n",
       "winery                    0\n",
       "variety                   0\n",
       "dtype: int64"
      ]
     },
     "execution_count": 13,
     "metadata": {},
     "output_type": "execute_result"
    }
   ],
   "source": [
    "user_reviews.isnull().sum()"
   ]
  },
  {
   "cell_type": "code",
   "execution_count": 14,
   "metadata": {},
   "outputs": [],
   "source": [
    "user_reviews['region_2']=user_reviews['region_2'].fillna(method='bfill')"
   ]
  },
  {
   "cell_type": "code",
   "execution_count": 15,
   "metadata": {},
   "outputs": [
    {
     "data": {
      "text/plain": [
       "user_name                 1\n",
       "country                  35\n",
       "review_title              0\n",
       "review_description        0\n",
       "designation           23647\n",
       "points                    0\n",
       "price                     0\n",
       "province                 35\n",
       "region_1              12754\n",
       "region_2                  0\n",
       "winery                    0\n",
       "variety                   0\n",
       "dtype: int64"
      ]
     },
     "execution_count": 15,
     "metadata": {},
     "output_type": "execute_result"
    }
   ],
   "source": [
    "user_reviews.isnull().sum()"
   ]
  },
  {
   "cell_type": "code",
   "execution_count": 16,
   "metadata": {},
   "outputs": [],
   "source": [
    "del user_reviews['region_1']"
   ]
  },
  {
   "cell_type": "code",
   "execution_count": 17,
   "metadata": {},
   "outputs": [
    {
     "data": {
      "text/plain": [
       "Reserve                   1382\n",
       "Estate                     898\n",
       "Reserva                    743\n",
       "Estate Grown               425\n",
       "Riserva                    415\n",
       "                          ... \n",
       "Family Estate                1\n",
       "Champs Perdrix               1\n",
       "Robert Thomas Vineyard       1\n",
       "Brut Blanc de Noirs          1\n",
       "Kaiton                       1\n",
       "Name: designation, Length: 26424, dtype: int64"
      ]
     },
     "execution_count": 17,
     "metadata": {},
     "output_type": "execute_result"
    }
   ],
   "source": [
    "user_reviews['designation'].value_counts()"
   ]
  },
  {
   "cell_type": "code",
   "execution_count": 18,
   "metadata": {},
   "outputs": [],
   "source": [
    "del user_reviews['designation']"
   ]
  },
  {
   "cell_type": "code",
   "execution_count": 19,
   "metadata": {},
   "outputs": [],
   "source": [
    "user_reviews=user_reviews.dropna()"
   ]
  },
  {
   "cell_type": "code",
   "execution_count": 20,
   "metadata": {},
   "outputs": [
    {
     "data": {
      "text/plain": [
       "user_name             0\n",
       "country               0\n",
       "review_title          0\n",
       "review_description    0\n",
       "points                0\n",
       "price                 0\n",
       "province              0\n",
       "region_2              0\n",
       "winery                0\n",
       "variety               0\n",
       "dtype: int64"
      ]
     },
     "execution_count": 20,
     "metadata": {},
     "output_type": "execute_result"
    }
   ],
   "source": [
    "user_reviews.isnull().sum()"
   ]
  },
  {
   "cell_type": "code",
   "execution_count": 21,
   "metadata": {},
   "outputs": [
    {
     "data": {
      "text/plain": [
       "38"
      ]
     },
     "execution_count": 21,
     "metadata": {},
     "output_type": "execute_result"
    }
   ],
   "source": [
    "user_reviews.country.nunique()"
   ]
  },
  {
   "cell_type": "code",
   "execution_count": 22,
   "metadata": {},
   "outputs": [
    {
     "data": {
      "text/plain": [
       "28"
      ]
     },
     "execution_count": 22,
     "metadata": {},
     "output_type": "execute_result"
    }
   ],
   "source": [
    "user_reviews.variety.nunique()"
   ]
  },
  {
   "cell_type": "markdown",
   "metadata": {},
   "source": [
    "# Lets view the average points to each variety of wine"
   ]
  },
  {
   "cell_type": "code",
   "execution_count": 23,
   "metadata": {},
   "outputs": [
    {
     "data": {
      "text/plain": [
       "variety\n",
       "Nebbiolo                      90.283675\n",
       "Grüner Veltliner              90.051185\n",
       "Champagne Blend               89.723742\n",
       "Riesling                      89.466602\n",
       "Pinot Noir                    89.417423\n",
       "Syrah                         89.278347\n",
       "Rhône-style Red Blend         89.171743\n",
       "Bordeaux-style Red Blend      89.102601\n",
       "Portuguese Red                88.780599\n",
       "Bordeaux-style White Blend    88.692941\n",
       "Cabernet Sauvignon            88.580474\n",
       "Gewürztraminer                88.578069\n",
       "Sangiovese                    88.532564\n",
       "Pinot Gris                    88.503057\n",
       "Red Blend                     88.408354\n",
       "Chardonnay                    88.325532\n",
       "Cabernet Franc                88.188300\n",
       "Sparkling Blend               88.062105\n",
       "Gamay                         88.058824\n",
       "Malbec                        87.990562\n",
       "Zinfandel                     87.849253\n",
       "Tempranillo                   87.536282\n",
       "Sauvignon Blanc               87.459945\n",
       "White Blend                   87.379894\n",
       "Merlot                        87.224696\n",
       "Portuguese White              87.005580\n",
       "Rosé                          86.822615\n",
       "Pinot Grigio                  86.195876\n",
       "Name: points, dtype: float64"
      ]
     },
     "execution_count": 23,
     "metadata": {},
     "output_type": "execute_result"
    }
   ],
   "source": [
    "user_reviews.groupby(\"variety\")[\"points\"].mean().sort_values(ascending = False)"
   ]
  },
  {
   "cell_type": "code",
   "execution_count": 24,
   "metadata": {},
   "outputs": [
    {
     "data": {
      "image/png": "[encoded data removed]",
      "text/plain": [
       "<Figure size 432x288 with 1 Axes>"
      ]
     },
     "metadata": {
      "needs_background": "light"
     },
     "output_type": "display_data"
    }
   ],
   "source": [
    "s = user_reviews.groupby(\"variety\")[\"points\"].mean().sort_values(ascending = False).head(10)\n",
    "s.plot.bar()\n",
    "plt.xlabel(\"wine types\")\n",
    "plt.ylabel(\"points\")\n",
    "plt.title(\"10 best wine varieties\")\n",
    "plt.tight_layout()\n",
    "plt.ylim(80,100)  \n",
    "plt.show()"
   ]
  },
  {
   "cell_type": "markdown",
   "metadata": {},
   "source": [
    "###### Average Wine ratings appear to be more in the range of 88. "
   ]
  },
  {
   "cell_type": "markdown",
   "metadata": {},
   "source": [
    "# Variety of wine that has received 100 points"
   ]
  },
  {
   "cell_type": "code",
   "execution_count": 25,
   "metadata": {},
   "outputs": [
    {
     "data": {
      "text/plain": [
       "Bordeaux-style Red Blend      4\n",
       "Merlot                        1\n",
       "Cabernet Sauvignon            1\n",
       "Bordeaux-style White Blend    1\n",
       "Syrah                         1\n",
       "Sangiovese                    1\n",
       "Chardonnay                    1\n",
       "Champagne Blend               1\n",
       "Portuguese Red                1\n",
       "Name: variety, dtype: int64"
      ]
     },
     "execution_count": 25,
     "metadata": {},
     "output_type": "execute_result"
    }
   ],
   "source": [
    "user_reviews[user_reviews.points ==100][\"variety\"].value_counts()"
   ]
  },
  {
   "cell_type": "markdown",
   "metadata": {},
   "source": [
    "###### Except Merlot, Sangiovese,Chardonnay,Cabernet Sauvignon are in the 10 best rated wines."
   ]
  },
  {
   "cell_type": "code",
   "execution_count": 26,
   "metadata": {},
   "outputs": [
    {
     "data": {
      "text/html": [
       "<div>\n",
       "<style scoped>\n",
       "    .dataframe tbody tr th:only-of-type {\n",
       "        vertical-align: middle;\n",
       "    }\n",
       "\n",
       "    .dataframe tbody tr th {\n",
       "        vertical-align: top;\n",
       "    }\n",
       "\n",
       "    .dataframe thead th {\n",
       "        text-align: right;\n",
       "    }\n",
       "</style>\n",
       "<table border=\"1\" class=\"dataframe\">\n",
       "  <thead>\n",
       "    <tr style=\"text-align: right;\">\n",
       "      <th></th>\n",
       "      <th>variety</th>\n",
       "      <th>len</th>\n",
       "    </tr>\n",
       "  </thead>\n",
       "  <tbody>\n",
       "    <tr>\n",
       "      <th>0</th>\n",
       "      <td>Pinot Noir</td>\n",
       "      <td>10584</td>\n",
       "    </tr>\n",
       "    <tr>\n",
       "      <th>1</th>\n",
       "      <td>Chardonnay</td>\n",
       "      <td>9400</td>\n",
       "    </tr>\n",
       "    <tr>\n",
       "      <th>2</th>\n",
       "      <td>Cabernet Sauvignon</td>\n",
       "      <td>7549</td>\n",
       "    </tr>\n",
       "    <tr>\n",
       "      <th>3</th>\n",
       "      <td>Red Blend</td>\n",
       "      <td>7158</td>\n",
       "    </tr>\n",
       "    <tr>\n",
       "      <th>4</th>\n",
       "      <td>Bordeaux-style Red Blend</td>\n",
       "      <td>5497</td>\n",
       "    </tr>\n",
       "    <tr>\n",
       "      <th>5</th>\n",
       "      <td>Riesling</td>\n",
       "      <td>4147</td>\n",
       "    </tr>\n",
       "    <tr>\n",
       "      <th>6</th>\n",
       "      <td>Sauvignon Blanc</td>\n",
       "      <td>4007</td>\n",
       "    </tr>\n",
       "    <tr>\n",
       "      <th>7</th>\n",
       "      <td>Syrah</td>\n",
       "      <td>3316</td>\n",
       "    </tr>\n",
       "    <tr>\n",
       "      <th>8</th>\n",
       "      <td>Rosé</td>\n",
       "      <td>2830</td>\n",
       "    </tr>\n",
       "    <tr>\n",
       "      <th>9</th>\n",
       "      <td>Merlot</td>\n",
       "      <td>2470</td>\n",
       "    </tr>\n",
       "  </tbody>\n",
       "</table>\n",
       "</div>"
      ],
      "text/plain": [
       "                    variety    len\n",
       "0                Pinot Noir  10584\n",
       "1                Chardonnay   9400\n",
       "2        Cabernet Sauvignon   7549\n",
       "3                 Red Blend   7158\n",
       "4  Bordeaux-style Red Blend   5497\n",
       "5                  Riesling   4147\n",
       "6           Sauvignon Blanc   4007\n",
       "7                     Syrah   3316\n",
       "8                      Rosé   2830\n",
       "9                    Merlot   2470"
      ]
     },
     "execution_count": 26,
     "metadata": {},
     "output_type": "execute_result"
    }
   ],
   "source": [
    "df = (user_reviews.groupby('variety').variety.agg([len]).sort_values(by='len', ascending=False).reset_index().head(10))\n",
    "df.head(10)\n"
   ]
  },
  {
   "cell_type": "markdown",
   "metadata": {},
   "source": [
    "###### Pinot Noir is the variety with the most reviews(10584) with average points 89.417423. Bordeaux-style Red Blend ranks 5th in the number of top reviewed wines but has received a great 100 points for four times."
   ]
  },
  {
   "cell_type": "code",
   "execution_count": 27,
   "metadata": {},
   "outputs": [
    {
     "data": {
      "image/png": "[encoded data removed]",
      "text/plain": [
       "<Figure size 432x288 with 1 Axes>"
      ]
     },
     "metadata": {
      "needs_background": "light"
     },
     "output_type": "display_data"
    }
   ],
   "source": [
    "###### plt.figure(figsize=(25,10))\n",
    "df.plot.bar(x='variety',y='len')\n",
    "plt.xlabel(\"Variety\")\n",
    "plt.ylabel(\"Number of reviews\")\n",
    "plt.title(\"Top 10 frequently reviewed varieties\")\n",
    "plt.tight_layout()\n",
    "plt.show()"
   ]
  },
  {
   "cell_type": "markdown",
   "metadata": {},
   "source": [
    "# Average Price per bottle of wine for each variety"
   ]
  },
  {
   "cell_type": "code",
   "execution_count": 28,
   "metadata": {},
   "outputs": [],
   "source": [
    "average_price_per_variety=user_reviews.groupby(\"variety\")[\"price\"].mean().sort_values(ascending = False)"
   ]
  },
  {
   "cell_type": "code",
   "execution_count": 29,
   "metadata": {},
   "outputs": [
    {
     "data": {
      "image/png": "[encoded data removed]",
      "text/plain": [
       "<Figure size 1080x432 with 1 Axes>"
      ]
     },
     "metadata": {
      "needs_background": "light"
     },
     "output_type": "display_data"
    }
   ],
   "source": [
    "plt.figure(figsize=(15,6))\n",
    "average_price_per_variety.plot.bar()\n",
    "plt.xlabel(\"variety\")\n",
    "plt.ylabel(\"average wine price\")\n",
    "plt.title(\"average wine price per variety\")\n",
    "plt.tight_layout()\n",
    "plt.show()"
   ]
  },
  {
   "cell_type": "markdown",
   "metadata": {},
   "source": [
    "###### Most of the top priced wines are highly rated and highly reviewed"
   ]
  },
  {
   "cell_type": "code",
   "execution_count": 30,
   "metadata": {},
   "outputs": [],
   "source": [
    "average_price_per_country=user_reviews.groupby(\"country\")[\"price\"].mean().sort_values(ascending = False)"
   ]
  },
  {
   "cell_type": "code",
   "execution_count": 31,
   "metadata": {},
   "outputs": [
    {
     "data": {
      "image/png": "[encoded data removed]",
      "text/plain": [
       "<Figure size 1080x432 with 1 Axes>"
      ]
     },
     "metadata": {
      "needs_background": "light"
     },
     "output_type": "display_data"
    }
   ],
   "source": [
    "plt.figure(figsize=(15,6))\n",
    "average_price_per_country.plot.bar()\n",
    "plt.xlabel(\"country\")\n",
    "plt.ylabel(\"average wine price\")\n",
    "plt.title(\"average wine price per country\")\n",
    "plt.tight_layout()\n",
    "plt.show()"
   ]
  },
  {
   "cell_type": "code",
   "execution_count": 32,
   "metadata": {},
   "outputs": [
    {
     "data": {
      "text/plain": [
       "19311     Pinot Noir\n",
       "24147     Pinot Noir\n",
       "31723         Merlot\n",
       "34801     Pinot Noir\n",
       "72918    White Blend\n",
       "Name: variety, dtype: object"
      ]
     },
     "execution_count": 32,
     "metadata": {},
     "output_type": "execute_result"
    }
   ],
   "source": [
    "user_reviews[user_reviews['country']=='Switzerland']['variety']"
   ]
  },
  {
   "cell_type": "markdown",
   "metadata": {},
   "source": [
    "###### Wines from Switzerland have the highest average price with Pinot Noir variety as one of it. Though it has never receieved a complete 100 points, Pinot Noir is the  most frequesntly reviewed and has received more than average ratings."
   ]
  },
  {
   "cell_type": "markdown",
   "metadata": {},
   "source": [
    "# Number of reviews per country"
   ]
  },
  {
   "cell_type": "code",
   "execution_count": 33,
   "metadata": {},
   "outputs": [
    {
     "data": {
      "text/plain": [
       "US                38572\n",
       "France            15948\n",
       "Italy              9112\n",
       "Portugal           3197\n",
       "Chile              2891\n",
       "Spain              2755\n",
       "Argentina          2570\n",
       "Austria            1892\n",
       "Germany            1573\n",
       "New Zealand        1121\n",
       "Australia          1028\n",
       "South Africa        727\n",
       "Israel              320\n",
       "Canada              176\n",
       "Greece              139\n",
       "Bulgaria             93\n",
       "Romania              80\n",
       "England              62\n",
       "Slovenia             42\n",
       "Mexico               38\n",
       "Moldova              35\n",
       "Hungary              35\n",
       "Uruguay              33\n",
       "Turkey               33\n",
       "Brazil               28\n",
       "Lebanon              28\n",
       "Morocco              21\n",
       "Georgia              12\n",
       "Croatia              12\n",
       "Ukraine              11\n",
       "Peru                  8\n",
       "Cyprus                6\n",
       "Macedonia             5\n",
       "Luxembourg            5\n",
       "Switzerland           5\n",
       "Serbia                4\n",
       "Czech Republic        3\n",
       "India                 1\n",
       "Name: country, dtype: int64"
      ]
     },
     "execution_count": 33,
     "metadata": {},
     "output_type": "execute_result"
    }
   ],
   "source": [
    "user_reviews.country.value_counts()\n"
   ]
  },
  {
   "cell_type": "code",
   "execution_count": 34,
   "metadata": {},
   "outputs": [
    {
     "data": {
      "text/plain": [
       "<matplotlib.axes._subplots.AxesSubplot at 0x28f059c3ec8>"
      ]
     },
     "execution_count": 34,
     "metadata": {},
     "output_type": "execute_result"
    },
    {
     "data": {
      "image/png": "[encoded data removed]",
      "text/plain": [
       "<Figure size 432x288 with 1 Axes>"
      ]
     },
     "metadata": {
      "needs_background": "light"
     },
     "output_type": "display_data"
    }
   ],
   "source": [
    "df = pd.DataFrame(user_reviews['country'].value_counts().head(10)).reset_index()\n",
    "df.columns = ['country', 'count']\n",
    "df.plot.bar(x='country',y='count')"
   ]
  },
  {
   "cell_type": "code",
   "execution_count": 35,
   "metadata": {},
   "outputs": [
    {
     "data": {
      "text/html": [
       "<div>\n",
       "<style scoped>\n",
       "    .dataframe tbody tr th:only-of-type {\n",
       "        vertical-align: middle;\n",
       "    }\n",
       "\n",
       "    .dataframe tbody tr th {\n",
       "        vertical-align: top;\n",
       "    }\n",
       "\n",
       "    .dataframe thead th {\n",
       "        text-align: right;\n",
       "    }\n",
       "</style>\n",
       "<table border=\"1\" class=\"dataframe\">\n",
       "  <thead>\n",
       "    <tr style=\"text-align: right;\">\n",
       "      <th></th>\n",
       "      <th>user_name</th>\n",
       "      <th>country</th>\n",
       "      <th>review_title</th>\n",
       "      <th>review_description</th>\n",
       "      <th>points</th>\n",
       "      <th>price</th>\n",
       "      <th>province</th>\n",
       "      <th>region_2</th>\n",
       "      <th>winery</th>\n",
       "      <th>variety</th>\n",
       "    </tr>\n",
       "  </thead>\n",
       "  <tbody>\n",
       "    <tr>\n",
       "      <th>0</th>\n",
       "      <td>@wawinereport</td>\n",
       "      <td>Australia</td>\n",
       "      <td>Andrew Peace 2007 Peace Family Vineyard Chardo...</td>\n",
       "      <td>Classic Chardonnay aromas of apple, pear and h...</td>\n",
       "      <td>83</td>\n",
       "      <td>10.0</td>\n",
       "      <td>Australia Other</td>\n",
       "      <td>South Eastern Australia</td>\n",
       "      <td>Andrew Peace</td>\n",
       "      <td>Chardonnay</td>\n",
       "    </tr>\n",
       "    <tr>\n",
       "      <th>1</th>\n",
       "      <td>@wawinereport</td>\n",
       "      <td>US</td>\n",
       "      <td>North by Northwest 2014 Red (Columbia Valley (...</td>\n",
       "      <td>This wine is near equal parts Syrah and Merlot...</td>\n",
       "      <td>89</td>\n",
       "      <td>15.0</td>\n",
       "      <td>Washington</td>\n",
       "      <td>Columbia Valley</td>\n",
       "      <td>North by Northwest</td>\n",
       "      <td>Red Blend</td>\n",
       "    </tr>\n",
       "    <tr>\n",
       "      <th>2</th>\n",
       "      <td>@vossroger</td>\n",
       "      <td>Italy</td>\n",
       "      <td>Renato Ratti 2007 Conca  (Barolo)</td>\n",
       "      <td>Barolo Conca opens with inky dark concentratio...</td>\n",
       "      <td>94</td>\n",
       "      <td>80.0</td>\n",
       "      <td>Piedmont</td>\n",
       "      <td>Barolo</td>\n",
       "      <td>Renato Ratti</td>\n",
       "      <td>Nebbiolo</td>\n",
       "    </tr>\n",
       "    <tr>\n",
       "      <th>3</th>\n",
       "      <td>@vossroger</td>\n",
       "      <td>France</td>\n",
       "      <td>Domaine l'Ancienne Cure 2010 L'Abbaye White (B...</td>\n",
       "      <td>It's impressive what a small addition of Sauvi...</td>\n",
       "      <td>87</td>\n",
       "      <td>22.0</td>\n",
       "      <td>Southwest France</td>\n",
       "      <td>Bergerac Sec</td>\n",
       "      <td>Domaine l'Ancienne Cure</td>\n",
       "      <td>Bordeaux-style White Blend</td>\n",
       "    </tr>\n",
       "    <tr>\n",
       "      <th>4</th>\n",
       "      <td>@vossroger</td>\n",
       "      <td>France</td>\n",
       "      <td>Château du Cèdre 2012 Le Cèdre Vintage Malbec ...</td>\n",
       "      <td>This ripe, sweet wine is rich and full of drie...</td>\n",
       "      <td>88</td>\n",
       "      <td>33.0</td>\n",
       "      <td>France Other</td>\n",
       "      <td>Vin de Liqueur</td>\n",
       "      <td>Château du Cèdre</td>\n",
       "      <td>Malbec</td>\n",
       "    </tr>\n",
       "    <tr>\n",
       "      <th>...</th>\n",
       "      <td>...</td>\n",
       "      <td>...</td>\n",
       "      <td>...</td>\n",
       "      <td>...</td>\n",
       "      <td>...</td>\n",
       "      <td>...</td>\n",
       "      <td>...</td>\n",
       "      <td>...</td>\n",
       "      <td>...</td>\n",
       "      <td>...</td>\n",
       "    </tr>\n",
       "    <tr>\n",
       "      <th>82651</th>\n",
       "      <td>@wineschach</td>\n",
       "      <td>US</td>\n",
       "      <td>La Crema 2012 Chardonnay (Arroyo Seco)</td>\n",
       "      <td>Made in a drier, tarter style than the winery'...</td>\n",
       "      <td>90</td>\n",
       "      <td>30.0</td>\n",
       "      <td>California</td>\n",
       "      <td>Central Coast</td>\n",
       "      <td>La Crema</td>\n",
       "      <td>Chardonnay</td>\n",
       "    </tr>\n",
       "    <tr>\n",
       "      <th>82652</th>\n",
       "      <td>@wineschach</td>\n",
       "      <td>Spain</td>\n",
       "      <td>Montecillo 2007 Crianza  (Rioja)</td>\n",
       "      <td>Hot earth, baked cherry and mild vanilla aroma...</td>\n",
       "      <td>84</td>\n",
       "      <td>12.0</td>\n",
       "      <td>Northern Spain</td>\n",
       "      <td>Rioja</td>\n",
       "      <td>Montecillo</td>\n",
       "      <td>Tempranillo</td>\n",
       "    </tr>\n",
       "    <tr>\n",
       "      <th>82653</th>\n",
       "      <td>@vossroger</td>\n",
       "      <td>US</td>\n",
       "      <td>Vivác Winery 2008 Single Vineyard Cabernet Sau...</td>\n",
       "      <td>Pungent, high-pitched notes of turmeric and dr...</td>\n",
       "      <td>85</td>\n",
       "      <td>21.0</td>\n",
       "      <td>New Mexico</td>\n",
       "      <td>New Mexico</td>\n",
       "      <td>Vivác Winery</td>\n",
       "      <td>Cabernet Sauvignon</td>\n",
       "    </tr>\n",
       "    <tr>\n",
       "      <th>82654</th>\n",
       "      <td>@vossroger</td>\n",
       "      <td>France</td>\n",
       "      <td>Domaine de la Madone 2014 Nouveau  (Beaujolais...</td>\n",
       "      <td>This is a wine that's not just lively and frui...</td>\n",
       "      <td>87</td>\n",
       "      <td>14.0</td>\n",
       "      <td>Beaujolais</td>\n",
       "      <td>Beaujolais-Villages</td>\n",
       "      <td>Domaine de la Madone</td>\n",
       "      <td>Gamay</td>\n",
       "    </tr>\n",
       "    <tr>\n",
       "      <th>82655</th>\n",
       "      <td>@vossroger</td>\n",
       "      <td>France</td>\n",
       "      <td>Château Beaumont 2011  Haut-Médoc</td>\n",
       "      <td>An impressive wine, it already shows signs of ...</td>\n",
       "      <td>91</td>\n",
       "      <td>20.0</td>\n",
       "      <td>Bordeaux</td>\n",
       "      <td>Haut-Médoc</td>\n",
       "      <td>Château Beaumont</td>\n",
       "      <td>Bordeaux-style Red Blend</td>\n",
       "    </tr>\n",
       "  </tbody>\n",
       "</table>\n",
       "<p>82621 rows × 10 columns</p>\n",
       "</div>"
      ],
      "text/plain": [
       "           user_name    country  \\\n",
       "0      @wawinereport  Australia   \n",
       "1      @wawinereport         US   \n",
       "2         @vossroger      Italy   \n",
       "3         @vossroger     France   \n",
       "4         @vossroger     France   \n",
       "...              ...        ...   \n",
       "82651    @wineschach         US   \n",
       "82652    @wineschach      Spain   \n",
       "82653     @vossroger         US   \n",
       "82654     @vossroger     France   \n",
       "82655     @vossroger     France   \n",
       "\n",
       "                                            review_title  \\\n",
       "0      Andrew Peace 2007 Peace Family Vineyard Chardo...   \n",
       "1      North by Northwest 2014 Red (Columbia Valley (...   \n",
       "2                      Renato Ratti 2007 Conca  (Barolo)   \n",
       "3      Domaine l'Ancienne Cure 2010 L'Abbaye White (B...   \n",
       "4      Château du Cèdre 2012 Le Cèdre Vintage Malbec ...   \n",
       "...                                                  ...   \n",
       "82651             La Crema 2012 Chardonnay (Arroyo Seco)   \n",
       "82652                   Montecillo 2007 Crianza  (Rioja)   \n",
       "82653  Vivác Winery 2008 Single Vineyard Cabernet Sau...   \n",
       "82654  Domaine de la Madone 2014 Nouveau  (Beaujolais...   \n",
       "82655                  Château Beaumont 2011  Haut-Médoc   \n",
       "\n",
       "                                      review_description  points  price  \\\n",
       "0      Classic Chardonnay aromas of apple, pear and h...      83   10.0   \n",
       "1      This wine is near equal parts Syrah and Merlot...      89   15.0   \n",
       "2      Barolo Conca opens with inky dark concentratio...      94   80.0   \n",
       "3      It's impressive what a small addition of Sauvi...      87   22.0   \n",
       "4      This ripe, sweet wine is rich and full of drie...      88   33.0   \n",
       "...                                                  ...     ...    ...   \n",
       "82651  Made in a drier, tarter style than the winery'...      90   30.0   \n",
       "82652  Hot earth, baked cherry and mild vanilla aroma...      84   12.0   \n",
       "82653  Pungent, high-pitched notes of turmeric and dr...      85   21.0   \n",
       "82654  This is a wine that's not just lively and frui...      87   14.0   \n",
       "82655  An impressive wine, it already shows signs of ...      91   20.0   \n",
       "\n",
       "               province                 region_2                   winery  \\\n",
       "0       Australia Other  South Eastern Australia             Andrew Peace   \n",
       "1            Washington          Columbia Valley       North by Northwest   \n",
       "2              Piedmont                   Barolo             Renato Ratti   \n",
       "3      Southwest France             Bergerac Sec  Domaine l'Ancienne Cure   \n",
       "4          France Other           Vin de Liqueur         Château du Cèdre   \n",
       "...                 ...                      ...                      ...   \n",
       "82651        California            Central Coast                 La Crema   \n",
       "82652    Northern Spain                    Rioja               Montecillo   \n",
       "82653        New Mexico               New Mexico             Vivác Winery   \n",
       "82654        Beaujolais      Beaujolais-Villages     Domaine de la Madone   \n",
       "82655          Bordeaux               Haut-Médoc         Château Beaumont   \n",
       "\n",
       "                          variety  \n",
       "0                      Chardonnay  \n",
       "1                       Red Blend  \n",
       "2                        Nebbiolo  \n",
       "3      Bordeaux-style White Blend  \n",
       "4                          Malbec  \n",
       "...                           ...  \n",
       "82651                  Chardonnay  \n",
       "82652                 Tempranillo  \n",
       "82653          Cabernet Sauvignon  \n",
       "82654                       Gamay  \n",
       "82655    Bordeaux-style Red Blend  \n",
       "\n",
       "[82621 rows x 10 columns]"
      ]
     },
     "execution_count": 35,
     "metadata": {},
     "output_type": "execute_result"
    }
   ],
   "source": [
    "user_reviews.groupby(\"user_name\").points.agg([\"min\",\"max\",\"mean\",\"count\"])\n",
    "user_reviews"
   ]
  },
  {
   "cell_type": "markdown",
   "metadata": {},
   "source": [
    "###### US has the highest number of reviewers. @vossroger has reviewed most of the wines."
   ]
  },
  {
   "cell_type": "code",
   "execution_count": 36,
   "metadata": {},
   "outputs": [
    {
     "data": {
      "text/html": [
       "<div>\n",
       "<style scoped>\n",
       "    .dataframe tbody tr th:only-of-type {\n",
       "        vertical-align: middle;\n",
       "    }\n",
       "\n",
       "    .dataframe tbody tr th {\n",
       "        vertical-align: top;\n",
       "    }\n",
       "\n",
       "    .dataframe thead th {\n",
       "        text-align: right;\n",
       "    }\n",
       "</style>\n",
       "<table border=\"1\" class=\"dataframe\">\n",
       "  <thead>\n",
       "    <tr style=\"text-align: right;\">\n",
       "      <th></th>\n",
       "      <th>user_name</th>\n",
       "      <th>country</th>\n",
       "      <th>review_title</th>\n",
       "      <th>review_description</th>\n",
       "      <th>points</th>\n",
       "      <th>price</th>\n",
       "      <th>province</th>\n",
       "      <th>region_2</th>\n",
       "      <th>winery</th>\n",
       "      <th>variety</th>\n",
       "    </tr>\n",
       "  </thead>\n",
       "  <tbody>\n",
       "    <tr>\n",
       "      <th>60131</th>\n",
       "      <td>@vossroger</td>\n",
       "      <td>France</td>\n",
       "      <td>Château les Ormes Sorbet 2013  Médoc</td>\n",
       "      <td>This ripe wine shows plenty of blackberry frui...</td>\n",
       "      <td>88</td>\n",
       "      <td>3300.0</td>\n",
       "      <td>Bordeaux</td>\n",
       "      <td>Médoc</td>\n",
       "      <td>Château les Ormes Sorbet</td>\n",
       "      <td>Bordeaux-style Red Blend</td>\n",
       "    </tr>\n",
       "    <tr>\n",
       "      <th>63394</th>\n",
       "      <td>@vossroger</td>\n",
       "      <td>France</td>\n",
       "      <td>Château Pétrus 2014  Pomerol</td>\n",
       "      <td>The wine is a velvet glove in an iron fist. Th...</td>\n",
       "      <td>96</td>\n",
       "      <td>2500.0</td>\n",
       "      <td>Bordeaux</td>\n",
       "      <td>Pomerol</td>\n",
       "      <td>Château Pétrus</td>\n",
       "      <td>Bordeaux-style Red Blend</td>\n",
       "    </tr>\n",
       "    <tr>\n",
       "      <th>51441</th>\n",
       "      <td>@vossroger</td>\n",
       "      <td>France</td>\n",
       "      <td>Château Pétrus 2011  Pomerol</td>\n",
       "      <td>This extravagantly perfumed wine has great jui...</td>\n",
       "      <td>97</td>\n",
       "      <td>2000.0</td>\n",
       "      <td>Bordeaux</td>\n",
       "      <td>Pomerol</td>\n",
       "      <td>Château Pétrus</td>\n",
       "      <td>Bordeaux-style Red Blend</td>\n",
       "    </tr>\n",
       "    <tr>\n",
       "      <th>9133</th>\n",
       "      <td>@vossroger</td>\n",
       "      <td>France</td>\n",
       "      <td>Domaine du Comte Liger-Belair 2005  La Romanée</td>\n",
       "      <td>A wonderfully complete wine, with all the elem...</td>\n",
       "      <td>96</td>\n",
       "      <td>2000.0</td>\n",
       "      <td>Burgundy</td>\n",
       "      <td>La Romanée</td>\n",
       "      <td>Domaine du Comte Liger-Belair</td>\n",
       "      <td>Pinot Noir</td>\n",
       "    </tr>\n",
       "    <tr>\n",
       "      <th>7769</th>\n",
       "      <td>@vossroger</td>\n",
       "      <td>France</td>\n",
       "      <td>Château Margaux 2009  Margaux</td>\n",
       "      <td>A massive wine for Margaux, packed with tannin...</td>\n",
       "      <td>98</td>\n",
       "      <td>1900.0</td>\n",
       "      <td>Bordeaux</td>\n",
       "      <td>Margaux</td>\n",
       "      <td>Château Margaux</td>\n",
       "      <td>Bordeaux-style Red Blend</td>\n",
       "    </tr>\n",
       "    <tr>\n",
       "      <th>...</th>\n",
       "      <td>...</td>\n",
       "      <td>...</td>\n",
       "      <td>...</td>\n",
       "      <td>...</td>\n",
       "      <td>...</td>\n",
       "      <td>...</td>\n",
       "      <td>...</td>\n",
       "      <td>...</td>\n",
       "      <td>...</td>\n",
       "      <td>...</td>\n",
       "    </tr>\n",
       "    <tr>\n",
       "      <th>36111</th>\n",
       "      <td>@vossroger</td>\n",
       "      <td>Portugal</td>\n",
       "      <td>Adega Cooperativa da Batalha NV D'Ó Red (Portu...</td>\n",
       "      <td>The wine—perhaps named in honor of Homer Simps...</td>\n",
       "      <td>84</td>\n",
       "      <td>5.0</td>\n",
       "      <td>Portuguese Table Wine</td>\n",
       "      <td>Napa</td>\n",
       "      <td>Adega Cooperativa da Batalha</td>\n",
       "      <td>Portuguese Red</td>\n",
       "    </tr>\n",
       "    <tr>\n",
       "      <th>11689</th>\n",
       "      <td>@vossroger</td>\n",
       "      <td>Portugal</td>\n",
       "      <td>Lagosta 2008 White (Vinho Verde)</td>\n",
       "      <td>A sweet, soft, clean wine, anonymous almost. Y...</td>\n",
       "      <td>82</td>\n",
       "      <td>5.0</td>\n",
       "      <td>Vinho Verde</td>\n",
       "      <td>Barbaresco</td>\n",
       "      <td>Lagosta</td>\n",
       "      <td>Portuguese White</td>\n",
       "    </tr>\n",
       "    <tr>\n",
       "      <th>57263</th>\n",
       "      <td>@vossroger</td>\n",
       "      <td>France</td>\n",
       "      <td>Belle Made For You NV White (Vin de France)</td>\n",
       "      <td>This blend of Sauvignon Blanc and Grenache Bla...</td>\n",
       "      <td>84</td>\n",
       "      <td>5.0</td>\n",
       "      <td>France Other</td>\n",
       "      <td>Vin de France</td>\n",
       "      <td>Belle Made For You</td>\n",
       "      <td>White Blend</td>\n",
       "    </tr>\n",
       "    <tr>\n",
       "      <th>74909</th>\n",
       "      <td>@vossroger</td>\n",
       "      <td>Portugal</td>\n",
       "      <td>Herdade dos Machados 2011 Toutalga Tinto Red (...</td>\n",
       "      <td>This is a full-bodied and very ripe wine. It i...</td>\n",
       "      <td>85</td>\n",
       "      <td>5.0</td>\n",
       "      <td>Alentejano</td>\n",
       "      <td>La Mancha</td>\n",
       "      <td>Herdade dos Machados</td>\n",
       "      <td>Portuguese Red</td>\n",
       "    </tr>\n",
       "    <tr>\n",
       "      <th>78735</th>\n",
       "      <td>@vossroger</td>\n",
       "      <td>Romania</td>\n",
       "      <td>Cramele Recas 2011 UnWineD Pinot Grigio (Viile...</td>\n",
       "      <td>Notes of sun-dried hay and green flower highli...</td>\n",
       "      <td>86</td>\n",
       "      <td>4.0</td>\n",
       "      <td>Viile Timisului</td>\n",
       "      <td>Bourgogne</td>\n",
       "      <td>Cramele Recas</td>\n",
       "      <td>Pinot Grigio</td>\n",
       "    </tr>\n",
       "  </tbody>\n",
       "</table>\n",
       "<p>22942 rows × 10 columns</p>\n",
       "</div>"
      ],
      "text/plain": [
       "        user_name   country  \\\n",
       "60131  @vossroger    France   \n",
       "63394  @vossroger    France   \n",
       "51441  @vossroger    France   \n",
       "9133   @vossroger    France   \n",
       "7769   @vossroger    France   \n",
       "...           ...       ...   \n",
       "36111  @vossroger  Portugal   \n",
       "11689  @vossroger  Portugal   \n",
       "57263  @vossroger    France   \n",
       "74909  @vossroger  Portugal   \n",
       "78735  @vossroger   Romania   \n",
       "\n",
       "                                            review_title  \\\n",
       "60131               Château les Ormes Sorbet 2013  Médoc   \n",
       "63394                       Château Pétrus 2014  Pomerol   \n",
       "51441                       Château Pétrus 2011  Pomerol   \n",
       "9133      Domaine du Comte Liger-Belair 2005  La Romanée   \n",
       "7769                       Château Margaux 2009  Margaux   \n",
       "...                                                  ...   \n",
       "36111  Adega Cooperativa da Batalha NV D'Ó Red (Portu...   \n",
       "11689                   Lagosta 2008 White (Vinho Verde)   \n",
       "57263        Belle Made For You NV White (Vin de France)   \n",
       "74909  Herdade dos Machados 2011 Toutalga Tinto Red (...   \n",
       "78735  Cramele Recas 2011 UnWineD Pinot Grigio (Viile...   \n",
       "\n",
       "                                      review_description  points   price  \\\n",
       "60131  This ripe wine shows plenty of blackberry frui...      88  3300.0   \n",
       "63394  The wine is a velvet glove in an iron fist. Th...      96  2500.0   \n",
       "51441  This extravagantly perfumed wine has great jui...      97  2000.0   \n",
       "9133   A wonderfully complete wine, with all the elem...      96  2000.0   \n",
       "7769   A massive wine for Margaux, packed with tannin...      98  1900.0   \n",
       "...                                                  ...     ...     ...   \n",
       "36111  The wine—perhaps named in honor of Homer Simps...      84     5.0   \n",
       "11689  A sweet, soft, clean wine, anonymous almost. Y...      82     5.0   \n",
       "57263  This blend of Sauvignon Blanc and Grenache Bla...      84     5.0   \n",
       "74909  This is a full-bodied and very ripe wine. It i...      85     5.0   \n",
       "78735  Notes of sun-dried hay and green flower highli...      86     4.0   \n",
       "\n",
       "                    province       region_2                         winery  \\\n",
       "60131               Bordeaux          Médoc       Château les Ormes Sorbet   \n",
       "63394               Bordeaux        Pomerol                 Château Pétrus   \n",
       "51441               Bordeaux        Pomerol                 Château Pétrus   \n",
       "9133                Burgundy     La Romanée  Domaine du Comte Liger-Belair   \n",
       "7769                Bordeaux        Margaux                Château Margaux   \n",
       "...                      ...            ...                            ...   \n",
       "36111  Portuguese Table Wine           Napa   Adega Cooperativa da Batalha   \n",
       "11689            Vinho Verde     Barbaresco                        Lagosta   \n",
       "57263           France Other  Vin de France             Belle Made For You   \n",
       "74909             Alentejano      La Mancha           Herdade dos Machados   \n",
       "78735        Viile Timisului      Bourgogne                  Cramele Recas   \n",
       "\n",
       "                        variety  \n",
       "60131  Bordeaux-style Red Blend  \n",
       "63394  Bordeaux-style Red Blend  \n",
       "51441  Bordeaux-style Red Blend  \n",
       "9133                 Pinot Noir  \n",
       "7769   Bordeaux-style Red Blend  \n",
       "...                         ...  \n",
       "36111            Portuguese Red  \n",
       "11689          Portuguese White  \n",
       "57263               White Blend  \n",
       "74909            Portuguese Red  \n",
       "78735              Pinot Grigio  \n",
       "\n",
       "[22942 rows x 10 columns]"
      ]
     },
     "execution_count": 36,
     "metadata": {},
     "output_type": "execute_result"
    }
   ],
   "source": [
    "df=user_reviews[user_reviews.user_name==\"@vossroger\"]\n",
    "df.sort_values(by='price',ascending=False)"
   ]
  },
  {
   "cell_type": "code",
   "execution_count": 37,
   "metadata": {},
   "outputs": [
    {
     "data": {
      "text/plain": [
       "France          13728\n",
       "US               3957\n",
       "Portugal         3189\n",
       "Italy             946\n",
       "Austria           599\n",
       "Germany           366\n",
       "Australia          47\n",
       "South Africa       29\n",
       "New Zealand        24\n",
       "Chile              19\n",
       "Spain              12\n",
       "Romania             8\n",
       "Lebanon             5\n",
       "Slovenia            3\n",
       "Mexico              3\n",
       "Turkey              2\n",
       "Macedonia           1\n",
       "Bulgaria            1\n",
       "Argentina           1\n",
       "Hungary             1\n",
       "Israel              1\n",
       "Name: country, dtype: int64"
      ]
     },
     "execution_count": 37,
     "metadata": {},
     "output_type": "execute_result"
    }
   ],
   "source": [
    "df=df.loc[:,['country','winery']]\n",
    "df['country'].value_counts()"
   ]
  },
  {
   "cell_type": "markdown",
   "metadata": {},
   "source": [
    "###### It is observed that the France Bordeaux is the most expensive wine. Also France wineries being the top reviewed ones has also been rated many times by the frequest reviewer."
   ]
  },
  {
   "cell_type": "markdown",
   "metadata": {},
   "source": [
    "# Relation between price and points given to variety of wines"
   ]
  },
  {
   "cell_type": "code",
   "execution_count": 38,
   "metadata": {},
   "outputs": [
    {
     "data": {
      "image/png": "[encoded data removed]",
      "text/plain": [
       "<Figure size 1080x432 with 1 Axes>"
      ]
     },
     "metadata": {
      "needs_background": "light"
     },
     "output_type": "display_data"
    }
   ],
   "source": [
    "plt.figure(figsize=(15,6))\n",
    "plt.scatter(x = user_reviews.points , y = user_reviews.price, c = \"r\", marker = \".\")\n",
    "plt.xlabel(\"points\")\n",
    "plt.ylabel(\"price\")\n",
    "plt.title(\"price vs points\")\n",
    "plt.tight_layout()\n",
    "plt.show()"
   ]
  },
  {
   "cell_type": "code",
   "execution_count": 39,
   "metadata": {},
   "outputs": [
    {
     "data": {
      "text/plain": [
       "0.3978862666559235"
      ]
     },
     "execution_count": 39,
     "metadata": {},
     "output_type": "execute_result"
    }
   ],
   "source": [
    "user_reviews[\"price\"].corr(user_reviews[\"points\"])"
   ]
  },
  {
   "cell_type": "markdown",
   "metadata": {},
   "source": [
    "###### It appears that the average price of wine is higher as the rating increases. We could say that wines that get good reviews tend to get higher price"
   ]
  },
  {
   "cell_type": "code",
   "execution_count": 40,
   "metadata": {},
   "outputs": [
    {
     "data": {
      "text/html": [
       "<div>\n",
       "<style scoped>\n",
       "    .dataframe tbody tr th:only-of-type {\n",
       "        vertical-align: middle;\n",
       "    }\n",
       "\n",
       "    .dataframe tbody tr th {\n",
       "        vertical-align: top;\n",
       "    }\n",
       "\n",
       "    .dataframe thead th {\n",
       "        text-align: right;\n",
       "    }\n",
       "</style>\n",
       "<table border=\"1\" class=\"dataframe\">\n",
       "  <thead>\n",
       "    <tr style=\"text-align: right;\">\n",
       "      <th></th>\n",
       "      <th>user_name</th>\n",
       "      <th>country</th>\n",
       "      <th>review_title</th>\n",
       "      <th>review_description</th>\n",
       "      <th>points</th>\n",
       "      <th>price</th>\n",
       "      <th>province</th>\n",
       "      <th>region_2</th>\n",
       "      <th>winery</th>\n",
       "      <th>variety</th>\n",
       "      <th>year</th>\n",
       "    </tr>\n",
       "  </thead>\n",
       "  <tbody>\n",
       "    <tr>\n",
       "      <th>0</th>\n",
       "      <td>@wawinereport</td>\n",
       "      <td>Australia</td>\n",
       "      <td>Andrew Peace 2007 Peace Family Vineyard Chardo...</td>\n",
       "      <td>Classic Chardonnay aromas of apple, pear and h...</td>\n",
       "      <td>83</td>\n",
       "      <td>10.0</td>\n",
       "      <td>Australia Other</td>\n",
       "      <td>South Eastern Australia</td>\n",
       "      <td>Andrew Peace</td>\n",
       "      <td>Chardonnay</td>\n",
       "      <td>2007.0</td>\n",
       "    </tr>\n",
       "    <tr>\n",
       "      <th>1</th>\n",
       "      <td>@wawinereport</td>\n",
       "      <td>US</td>\n",
       "      <td>North by Northwest 2014 Red (Columbia Valley (...</td>\n",
       "      <td>This wine is near equal parts Syrah and Merlot...</td>\n",
       "      <td>89</td>\n",
       "      <td>15.0</td>\n",
       "      <td>Washington</td>\n",
       "      <td>Columbia Valley</td>\n",
       "      <td>North by Northwest</td>\n",
       "      <td>Red Blend</td>\n",
       "      <td>2014.0</td>\n",
       "    </tr>\n",
       "    <tr>\n",
       "      <th>2</th>\n",
       "      <td>@vossroger</td>\n",
       "      <td>Italy</td>\n",
       "      <td>Renato Ratti 2007 Conca  (Barolo)</td>\n",
       "      <td>Barolo Conca opens with inky dark concentratio...</td>\n",
       "      <td>94</td>\n",
       "      <td>80.0</td>\n",
       "      <td>Piedmont</td>\n",
       "      <td>Barolo</td>\n",
       "      <td>Renato Ratti</td>\n",
       "      <td>Nebbiolo</td>\n",
       "      <td>2007.0</td>\n",
       "    </tr>\n",
       "    <tr>\n",
       "      <th>3</th>\n",
       "      <td>@vossroger</td>\n",
       "      <td>France</td>\n",
       "      <td>Domaine l'Ancienne Cure 2010 L'Abbaye White (B...</td>\n",
       "      <td>It's impressive what a small addition of Sauvi...</td>\n",
       "      <td>87</td>\n",
       "      <td>22.0</td>\n",
       "      <td>Southwest France</td>\n",
       "      <td>Bergerac Sec</td>\n",
       "      <td>Domaine l'Ancienne Cure</td>\n",
       "      <td>Bordeaux-style White Blend</td>\n",
       "      <td>2010.0</td>\n",
       "    </tr>\n",
       "    <tr>\n",
       "      <th>4</th>\n",
       "      <td>@vossroger</td>\n",
       "      <td>France</td>\n",
       "      <td>Château du Cèdre 2012 Le Cèdre Vintage Malbec ...</td>\n",
       "      <td>This ripe, sweet wine is rich and full of drie...</td>\n",
       "      <td>88</td>\n",
       "      <td>33.0</td>\n",
       "      <td>France Other</td>\n",
       "      <td>Vin de Liqueur</td>\n",
       "      <td>Château du Cèdre</td>\n",
       "      <td>Malbec</td>\n",
       "      <td>2012.0</td>\n",
       "    </tr>\n",
       "  </tbody>\n",
       "</table>\n",
       "</div>"
      ],
      "text/plain": [
       "       user_name    country  \\\n",
       "0  @wawinereport  Australia   \n",
       "1  @wawinereport         US   \n",
       "2     @vossroger      Italy   \n",
       "3     @vossroger     France   \n",
       "4     @vossroger     France   \n",
       "\n",
       "                                        review_title  \\\n",
       "0  Andrew Peace 2007 Peace Family Vineyard Chardo...   \n",
       "1  North by Northwest 2014 Red (Columbia Valley (...   \n",
       "2                  Renato Ratti 2007 Conca  (Barolo)   \n",
       "3  Domaine l'Ancienne Cure 2010 L'Abbaye White (B...   \n",
       "4  Château du Cèdre 2012 Le Cèdre Vintage Malbec ...   \n",
       "\n",
       "                                  review_description  points  price  \\\n",
       "0  Classic Chardonnay aromas of apple, pear and h...      83   10.0   \n",
       "1  This wine is near equal parts Syrah and Merlot...      89   15.0   \n",
       "2  Barolo Conca opens with inky dark concentratio...      94   80.0   \n",
       "3  It's impressive what a small addition of Sauvi...      87   22.0   \n",
       "4  This ripe, sweet wine is rich and full of drie...      88   33.0   \n",
       "\n",
       "           province                 region_2                   winery  \\\n",
       "0   Australia Other  South Eastern Australia             Andrew Peace   \n",
       "1        Washington          Columbia Valley       North by Northwest   \n",
       "2          Piedmont                   Barolo             Renato Ratti   \n",
       "3  Southwest France             Bergerac Sec  Domaine l'Ancienne Cure   \n",
       "4      France Other           Vin de Liqueur         Château du Cèdre   \n",
       "\n",
       "                      variety    year  \n",
       "0                  Chardonnay  2007.0  \n",
       "1                   Red Blend  2014.0  \n",
       "2                    Nebbiolo  2007.0  \n",
       "3  Bordeaux-style White Blend  2010.0  \n",
       "4                      Malbec  2012.0  "
      ]
     },
     "execution_count": 40,
     "metadata": {},
     "output_type": "execute_result"
    }
   ],
   "source": [
    "user_reviews['year'] = user_reviews.review_title.str.extract('((19|20)\\d{2})')[0]\n",
    "\n",
    "\n",
    "df = (user_reviews.loc[user_reviews.year.notnull()].assign(year=user_reviews.year.astype('float64')))\n",
    "df.head(5)"
   ]
  },
  {
   "cell_type": "code",
   "execution_count": 41,
   "metadata": {},
   "outputs": [
    {
     "data": {
      "image/png": "[encoded data removed]",
      "text/plain": [
       "<Figure size 1000x400 with 1 Axes>"
      ]
     },
     "metadata": {},
     "output_type": "display_data"
    },
    {
     "data": {
      "text/plain": [
       "<ggplot: (-9223371860895763156)>"
      ]
     },
     "execution_count": 41,
     "metadata": {},
     "output_type": "execute_result"
    }
   ],
   "source": [
    "(ggplot(df)\n",
    " + aes('year')\n",
    " + geom_bar(width=0.5,color='green')\n",
    " + ggtitle(\"Number of wines through 1900-2000\")\n",
    " + xlab('Year')\n",
    " + ylab('Count')\n",
    " + theme(axis_text_x=element_text(rotation=90),\n",
    "         figure_size=(10, 4))\n",
    " + scale_x_continuous(breaks=range(1900, 2020, 10))\n",
    " + scale_y_continuous(breaks=range(0, 31, 2))\n",
    " + coord_cartesian(xlim=(1900, 2005), ylim=(0, 30))\n",
    ")"
   ]
  },
  {
   "cell_type": "code",
   "execution_count": 42,
   "metadata": {},
   "outputs": [
    {
     "data": {
      "image/png": "[encoded data removed]",
      "text/plain": [
       "<Figure size 1000x400 with 1 Axes>"
      ]
     },
     "metadata": {},
     "output_type": "display_data"
    },
    {
     "data": {
      "text/plain": [
       "<ggplot: (-9223371861023367120)>"
      ]
     },
     "execution_count": 42,
     "metadata": {},
     "output_type": "execute_result"
    }
   ],
   "source": [
    "(ggplot(df)\n",
    " + aes(x='year', y='points')\n",
    " + geom_point(size=0.5,color='red')\n",
    " + ggtitle(\"Points of Wines per Year\")\n",
    " + xlab('Year')\n",
    " + ylab('Points')\n",
    " + theme(axis_text_x=element_text(rotation=90),\n",
    "         figure_size=(10, 4))\n",
    " + scale_x_continuous(breaks=range(1900, 2020, 10))\n",
    ")"
   ]
  },
  {
   "cell_type": "markdown",
   "metadata": {},
   "source": [
    "###### It can be seen that the vintage wines are higly rated and number of reviews increased in the last few years of 19th century."
   ]
  },
  {
   "cell_type": "markdown",
   "metadata": {},
   "source": [
    "# Model Building"
   ]
  },
  {
   "cell_type": "code",
   "execution_count": 43,
   "metadata": {},
   "outputs": [
    {
     "data": {
      "text/html": [
       "<div>\n",
       "<style scoped>\n",
       "    .dataframe tbody tr th:only-of-type {\n",
       "        vertical-align: middle;\n",
       "    }\n",
       "\n",
       "    .dataframe tbody tr th {\n",
       "        vertical-align: top;\n",
       "    }\n",
       "\n",
       "    .dataframe thead th {\n",
       "        text-align: right;\n",
       "    }\n",
       "</style>\n",
       "<table border=\"1\" class=\"dataframe\">\n",
       "  <thead>\n",
       "    <tr style=\"text-align: right;\">\n",
       "      <th></th>\n",
       "      <th>user_name</th>\n",
       "      <th>country</th>\n",
       "      <th>review_title</th>\n",
       "      <th>review_description</th>\n",
       "      <th>points</th>\n",
       "      <th>price</th>\n",
       "      <th>province</th>\n",
       "      <th>region_2</th>\n",
       "      <th>winery</th>\n",
       "      <th>variety</th>\n",
       "      <th>year</th>\n",
       "    </tr>\n",
       "  </thead>\n",
       "  <tbody>\n",
       "    <tr>\n",
       "      <th>53655</th>\n",
       "      <td>@wawinereport</td>\n",
       "      <td>US</td>\n",
       "      <td>Roza Ridge 2010 Malbec (Rattlesnake Hills)</td>\n",
       "      <td>100% Malbec, it's redolent with dark plums, wi...</td>\n",
       "      <td>87</td>\n",
       "      <td>20.000000</td>\n",
       "      <td>Washington</td>\n",
       "      <td>Columbia Valley</td>\n",
       "      <td>Roza Ridge</td>\n",
       "      <td>Malbec</td>\n",
       "      <td>2010</td>\n",
       "    </tr>\n",
       "    <tr>\n",
       "      <th>73628</th>\n",
       "      <td>@wawinereport</td>\n",
       "      <td>US</td>\n",
       "      <td>Roza Ridge 2010 Malbec (Rattlesnake Hills)</td>\n",
       "      <td>100% Malbec, it's redolent with dark plums, wi...</td>\n",
       "      <td>87</td>\n",
       "      <td>20.000000</td>\n",
       "      <td>Washington</td>\n",
       "      <td>Columbia Valley</td>\n",
       "      <td>Roza Ridge</td>\n",
       "      <td>Malbec</td>\n",
       "      <td>2010</td>\n",
       "    </tr>\n",
       "    <tr>\n",
       "      <th>64962</th>\n",
       "      <td>@wawinereport</td>\n",
       "      <td>US</td>\n",
       "      <td>Ross Andrew 2013 Meadow Rosé (Columbia Valley ...</td>\n",
       "      <td>100% Sangiovese, this pale pink wine has notes...</td>\n",
       "      <td>88</td>\n",
       "      <td>18.000000</td>\n",
       "      <td>Washington</td>\n",
       "      <td>Columbia Valley</td>\n",
       "      <td>Ross Andrew</td>\n",
       "      <td>Rosé</td>\n",
       "      <td>2013</td>\n",
       "    </tr>\n",
       "    <tr>\n",
       "      <th>81272</th>\n",
       "      <td>@wawinereport</td>\n",
       "      <td>US</td>\n",
       "      <td>Ross Andrew 2013 Meadow Rosé (Columbia Valley ...</td>\n",
       "      <td>100% Sangiovese, this pale pink wine has notes...</td>\n",
       "      <td>88</td>\n",
       "      <td>18.000000</td>\n",
       "      <td>Washington</td>\n",
       "      <td>Columbia Valley</td>\n",
       "      <td>Ross Andrew</td>\n",
       "      <td>Rosé</td>\n",
       "      <td>2013</td>\n",
       "    </tr>\n",
       "    <tr>\n",
       "      <th>32203</th>\n",
       "      <td>@vossroger</td>\n",
       "      <td>France</td>\n",
       "      <td>Château Haut-Sarpe 2008 Barrel sample  (Saint-...</td>\n",
       "      <td>87-89 Barrel sample. Minty aromas give lifted ...</td>\n",
       "      <td>88</td>\n",
       "      <td>36.922232</td>\n",
       "      <td>Bordeaux</td>\n",
       "      <td>Saint-Émilion</td>\n",
       "      <td>Château Haut-Sarpe</td>\n",
       "      <td>Bordeaux-style Red Blend</td>\n",
       "      <td>2008</td>\n",
       "    </tr>\n",
       "    <tr>\n",
       "      <th>...</th>\n",
       "      <td>...</td>\n",
       "      <td>...</td>\n",
       "      <td>...</td>\n",
       "      <td>...</td>\n",
       "      <td>...</td>\n",
       "      <td>...</td>\n",
       "      <td>...</td>\n",
       "      <td>...</td>\n",
       "      <td>...</td>\n",
       "      <td>...</td>\n",
       "      <td>...</td>\n",
       "    </tr>\n",
       "    <tr>\n",
       "      <th>48067</th>\n",
       "      <td>@gordone_cellars</td>\n",
       "      <td>US</td>\n",
       "      <td>Eye Candy 2012 Chardonnay (California)</td>\n",
       "      <td>lean and zesty Chardonnay with a burst of mout...</td>\n",
       "      <td>84</td>\n",
       "      <td>7.000000</td>\n",
       "      <td>California</td>\n",
       "      <td>California Other</td>\n",
       "      <td>Eye Candy</td>\n",
       "      <td>Chardonnay</td>\n",
       "      <td>2012</td>\n",
       "    </tr>\n",
       "    <tr>\n",
       "      <th>43796</th>\n",
       "      <td>@JoeCz</td>\n",
       "      <td>New Zealand</td>\n",
       "      <td>Tussock Jumper 2016 Sauvignon Blanc (New Zealand)</td>\n",
       "      <td>this medium-bodied Sauvignon Blanc shows only ...</td>\n",
       "      <td>88</td>\n",
       "      <td>15.000000</td>\n",
       "      <td>New Zealand</td>\n",
       "      <td>Napa</td>\n",
       "      <td>Tussock Jumper</td>\n",
       "      <td>Sauvignon Blanc</td>\n",
       "      <td>2016</td>\n",
       "    </tr>\n",
       "    <tr>\n",
       "      <th>58807</th>\n",
       "      <td>@JoeCz</td>\n",
       "      <td>New Zealand</td>\n",
       "      <td>Tussock Jumper 2016 Sauvignon Blanc (New Zealand)</td>\n",
       "      <td>this medium-bodied Sauvignon Blanc shows only ...</td>\n",
       "      <td>88</td>\n",
       "      <td>15.000000</td>\n",
       "      <td>New Zealand</td>\n",
       "      <td>Rosso di Montepulciano</td>\n",
       "      <td>Tussock Jumper</td>\n",
       "      <td>Sauvignon Blanc</td>\n",
       "      <td>2016</td>\n",
       "    </tr>\n",
       "    <tr>\n",
       "      <th>4688</th>\n",
       "      <td>@paulgwine</td>\n",
       "      <td>Canada</td>\n",
       "      <td>Quails' Gate 2012 Chardonnay (Okanagan Valley)</td>\n",
       "      <td>“Open and drink” the instructions should read,...</td>\n",
       "      <td>89</td>\n",
       "      <td>20.000000</td>\n",
       "      <td>British Columbia</td>\n",
       "      <td>Okanagan Valley</td>\n",
       "      <td>Quails' Gate</td>\n",
       "      <td>Chardonnay</td>\n",
       "      <td>2012</td>\n",
       "    </tr>\n",
       "    <tr>\n",
       "      <th>11494</th>\n",
       "      <td>@paulgwine</td>\n",
       "      <td>Canada</td>\n",
       "      <td>Quails' Gate 2012 Chardonnay (Okanagan Valley)</td>\n",
       "      <td>“Open and drink” the instructions should read,...</td>\n",
       "      <td>89</td>\n",
       "      <td>20.000000</td>\n",
       "      <td>British Columbia</td>\n",
       "      <td>Okanagan Valley</td>\n",
       "      <td>Quails' Gate</td>\n",
       "      <td>Chardonnay</td>\n",
       "      <td>2012</td>\n",
       "    </tr>\n",
       "  </tbody>\n",
       "</table>\n",
       "<p>10054 rows × 11 columns</p>\n",
       "</div>"
      ],
      "text/plain": [
       "              user_name      country  \\\n",
       "53655     @wawinereport           US   \n",
       "73628     @wawinereport           US   \n",
       "64962     @wawinereport           US   \n",
       "81272     @wawinereport           US   \n",
       "32203        @vossroger       France   \n",
       "...                 ...          ...   \n",
       "48067  @gordone_cellars           US   \n",
       "43796            @JoeCz  New Zealand   \n",
       "58807            @JoeCz  New Zealand   \n",
       "4688        @paulgwine        Canada   \n",
       "11494       @paulgwine        Canada   \n",
       "\n",
       "                                            review_title  \\\n",
       "53655         Roza Ridge 2010 Malbec (Rattlesnake Hills)   \n",
       "73628         Roza Ridge 2010 Malbec (Rattlesnake Hills)   \n",
       "64962  Ross Andrew 2013 Meadow Rosé (Columbia Valley ...   \n",
       "81272  Ross Andrew 2013 Meadow Rosé (Columbia Valley ...   \n",
       "32203  Château Haut-Sarpe 2008 Barrel sample  (Saint-...   \n",
       "...                                                  ...   \n",
       "48067             Eye Candy 2012 Chardonnay (California)   \n",
       "43796  Tussock Jumper 2016 Sauvignon Blanc (New Zealand)   \n",
       "58807  Tussock Jumper 2016 Sauvignon Blanc (New Zealand)   \n",
       "4688      Quails' Gate 2012 Chardonnay (Okanagan Valley)   \n",
       "11494     Quails' Gate 2012 Chardonnay (Okanagan Valley)   \n",
       "\n",
       "                                      review_description  points      price  \\\n",
       "53655  100% Malbec, it's redolent with dark plums, wi...      87  20.000000   \n",
       "73628  100% Malbec, it's redolent with dark plums, wi...      87  20.000000   \n",
       "64962  100% Sangiovese, this pale pink wine has notes...      88  18.000000   \n",
       "81272  100% Sangiovese, this pale pink wine has notes...      88  18.000000   \n",
       "32203  87-89 Barrel sample. Minty aromas give lifted ...      88  36.922232   \n",
       "...                                                  ...     ...        ...   \n",
       "48067  lean and zesty Chardonnay with a burst of mout...      84   7.000000   \n",
       "43796  this medium-bodied Sauvignon Blanc shows only ...      88  15.000000   \n",
       "58807  this medium-bodied Sauvignon Blanc shows only ...      88  15.000000   \n",
       "4688   “Open and drink” the instructions should read,...      89  20.000000   \n",
       "11494  “Open and drink” the instructions should read,...      89  20.000000   \n",
       "\n",
       "               province                region_2              winery  \\\n",
       "53655        Washington         Columbia Valley          Roza Ridge   \n",
       "73628        Washington         Columbia Valley          Roza Ridge   \n",
       "64962        Washington         Columbia Valley         Ross Andrew   \n",
       "81272        Washington         Columbia Valley         Ross Andrew   \n",
       "32203          Bordeaux           Saint-Émilion  Château Haut-Sarpe   \n",
       "...                 ...                     ...                 ...   \n",
       "48067        California        California Other           Eye Candy   \n",
       "43796       New Zealand                    Napa      Tussock Jumper   \n",
       "58807       New Zealand  Rosso di Montepulciano      Tussock Jumper   \n",
       "4688   British Columbia         Okanagan Valley        Quails' Gate   \n",
       "11494  British Columbia         Okanagan Valley        Quails' Gate   \n",
       "\n",
       "                        variety  year  \n",
       "53655                    Malbec  2010  \n",
       "73628                    Malbec  2010  \n",
       "64962                      Rosé  2013  \n",
       "81272                      Rosé  2013  \n",
       "32203  Bordeaux-style Red Blend  2008  \n",
       "...                         ...   ...  \n",
       "48067                Chardonnay  2012  \n",
       "43796           Sauvignon Blanc  2016  \n",
       "58807           Sauvignon Blanc  2016  \n",
       "4688                 Chardonnay  2012  \n",
       "11494                Chardonnay  2012  \n",
       "\n",
       "[10054 rows x 11 columns]"
      ]
     },
     "execution_count": 43,
     "metadata": {},
     "output_type": "execute_result"
    }
   ],
   "source": [
    "user_reviews[user_reviews.duplicated('review_description',keep=False)].sort_values('review_description')"
   ]
  },
  {
   "cell_type": "code",
   "execution_count": 44,
   "metadata": {},
   "outputs": [],
   "source": [
    "input_data = user_reviews['review_description']\n",
    "output_data = user_reviews['variety']"
   ]
  },
  {
   "cell_type": "code",
   "execution_count": 45,
   "metadata": {},
   "outputs": [
    {
     "data": {
      "text/plain": [
       "array([ 5, 17, 11, ...,  3,  6,  0])"
      ]
     },
     "execution_count": 45,
     "metadata": {},
     "output_type": "execute_result"
    }
   ],
   "source": [
    "labelEncoder = LabelEncoder()\n",
    "output_data = labelEncoder.fit_transform(output_data)\n",
    "output_data"
   ]
  },
  {
   "cell_type": "code",
   "execution_count": 46,
   "metadata": {},
   "outputs": [],
   "source": [
    "list_aux=[]\n",
    "for phase_word in input_data:\n",
    "    list_aux.append(' '.join([re.sub('[0-9\\W_]', '', word) for word in phase_word.split() if not word in sw]))\n",
    "input_data = list_aux"
   ]
  },
  {
   "cell_type": "code",
   "execution_count": 47,
   "metadata": {},
   "outputs": [
    {
     "data": {
      "text/plain": [
       "list"
      ]
     },
     "execution_count": 47,
     "metadata": {},
     "output_type": "execute_result"
    }
   ],
   "source": [
    "type(input_data)"
   ]
  },
  {
   "cell_type": "code",
   "execution_count": 48,
   "metadata": {},
   "outputs": [],
   "source": [
    "import pickle\n",
    "countVectorizer = CountVectorizer(decode_error=\"replace\")\n",
    "input_data = countVectorizer.fit_transform(input_data)\n",
    "pickle.dump(countVectorizer.vocabulary_,open(\"feature.pkl\",\"wb\"))"
   ]
  },
  {
   "cell_type": "code",
   "execution_count": 49,
   "metadata": {},
   "outputs": [
    {
     "data": {
      "text/plain": [
       "(82621, 35465)"
      ]
     },
     "execution_count": 49,
     "metadata": {},
     "output_type": "execute_result"
    }
   ],
   "source": [
    "input_data.shape"
   ]
  },
  {
   "cell_type": "code",
   "execution_count": 50,
   "metadata": {},
   "outputs": [],
   "source": [
    "\n",
    "X_train, X_test, y_train, y_test = train_test_split(input_data, output_data, test_size=0.2) \n"
   ]
  },
  {
   "cell_type": "code",
   "execution_count": 51,
   "metadata": {},
   "outputs": [
    {
     "data": {
      "text/plain": [
       "LogisticRegression(C=1.0, class_weight=None, dual=False, fit_intercept=True,\n",
       "                   intercept_scaling=1, l1_ratio=None, max_iter=100,\n",
       "                   multi_class='auto', n_jobs=None, penalty='l2',\n",
       "                   random_state=None, solver='lbfgs', tol=0.0001, verbose=0,\n",
       "                   warm_start=False)"
      ]
     },
     "execution_count": 51,
     "metadata": {},
     "output_type": "execute_result"
    }
   ],
   "source": [
    "import warnings\n",
    "\n",
    "warnings.simplefilter('ignore')\n",
    "from sklearn.linear_model import LogisticRegression\n",
    "cl= LogisticRegression()\n",
    "cl.fit(X_train, y_train)"
   ]
  },
  {
   "cell_type": "code",
   "execution_count": 52,
   "metadata": {},
   "outputs": [],
   "source": [
    "y_pred = cl.predict(X_test)"
   ]
  },
  {
   "cell_type": "code",
   "execution_count": 53,
   "metadata": {},
   "outputs": [
    {
     "name": "stdout",
     "output_type": "stream",
     "text": [
      "0.6954916792738275\n"
     ]
    }
   ],
   "source": [
    "from sklearn.metrics import accuracy_score\n",
    "\n",
    " \n",
    "print(accuracy_score(y_test, y_pred))"
   ]
  },
  {
   "cell_type": "code",
   "execution_count": 54,
   "metadata": {},
   "outputs": [
    {
     "data": {
      "text/html": [
       "<div>\n",
       "<style scoped>\n",
       "    .dataframe tbody tr th:only-of-type {\n",
       "        vertical-align: middle;\n",
       "    }\n",
       "\n",
       "    .dataframe tbody tr th {\n",
       "        vertical-align: top;\n",
       "    }\n",
       "\n",
       "    .dataframe thead th {\n",
       "        text-align: right;\n",
       "    }\n",
       "</style>\n",
       "<table border=\"1\" class=\"dataframe\">\n",
       "  <thead>\n",
       "    <tr style=\"text-align: right;\">\n",
       "      <th></th>\n",
       "      <th>user_name</th>\n",
       "      <th>country</th>\n",
       "      <th>review_title</th>\n",
       "      <th>review_description</th>\n",
       "      <th>designation</th>\n",
       "      <th>points</th>\n",
       "      <th>price</th>\n",
       "      <th>province</th>\n",
       "      <th>region_1</th>\n",
       "      <th>region_2</th>\n",
       "      <th>winery</th>\n",
       "    </tr>\n",
       "  </thead>\n",
       "  <tbody>\n",
       "    <tr>\n",
       "      <th>0</th>\n",
       "      <td>@paulgwine</td>\n",
       "      <td>US</td>\n",
       "      <td>Boedecker Cellars 2011 Athena Pinot Noir (Will...</td>\n",
       "      <td>Nicely differentiated from the companion Stewa...</td>\n",
       "      <td>Athena</td>\n",
       "      <td>88</td>\n",
       "      <td>35.0</td>\n",
       "      <td>Oregon</td>\n",
       "      <td>Willamette Valley</td>\n",
       "      <td>Willamette Valley</td>\n",
       "      <td>Boedecker Cellars</td>\n",
       "    </tr>\n",
       "    <tr>\n",
       "      <th>1</th>\n",
       "      <td>@wineschach</td>\n",
       "      <td>Argentina</td>\n",
       "      <td>Mendoza Vineyards 2012 Gran Reserva by Richard...</td>\n",
       "      <td>Charred, smoky, herbal aromas of blackberry tr...</td>\n",
       "      <td>Gran Reserva by Richard Bonvin</td>\n",
       "      <td>90</td>\n",
       "      <td>60.0</td>\n",
       "      <td>Mendoza Province</td>\n",
       "      <td>Mendoza</td>\n",
       "      <td>NaN</td>\n",
       "      <td>Mendoza Vineyards</td>\n",
       "    </tr>\n",
       "    <tr>\n",
       "      <th>2</th>\n",
       "      <td>@vboone</td>\n",
       "      <td>US</td>\n",
       "      <td>Prime 2013 Chardonnay (Coombsville)</td>\n",
       "      <td>Slightly sour and funky in earth, this is a re...</td>\n",
       "      <td>NaN</td>\n",
       "      <td>87</td>\n",
       "      <td>38.0</td>\n",
       "      <td>California</td>\n",
       "      <td>Coombsville</td>\n",
       "      <td>Napa</td>\n",
       "      <td>Prime</td>\n",
       "    </tr>\n",
       "    <tr>\n",
       "      <th>3</th>\n",
       "      <td>@wineschach</td>\n",
       "      <td>Argentina</td>\n",
       "      <td>Bodega Cuarto Dominio 2012 Chento Vineyard Sel...</td>\n",
       "      <td>This concentrated, midnight-black Malbec deliv...</td>\n",
       "      <td>Chento Vineyard Selection</td>\n",
       "      <td>91</td>\n",
       "      <td>20.0</td>\n",
       "      <td>Mendoza Province</td>\n",
       "      <td>Mendoza</td>\n",
       "      <td>NaN</td>\n",
       "      <td>Bodega Cuarto Dominio</td>\n",
       "    </tr>\n",
       "    <tr>\n",
       "      <th>4</th>\n",
       "      <td>@kerinokeefe</td>\n",
       "      <td>Italy</td>\n",
       "      <td>SassodiSole 2012  Brunello di Montalcino</td>\n",
       "      <td>Earthy aromas suggesting grilled porcini, leat...</td>\n",
       "      <td>NaN</td>\n",
       "      <td>90</td>\n",
       "      <td>49.0</td>\n",
       "      <td>Tuscany</td>\n",
       "      <td>Brunello di Montalcino</td>\n",
       "      <td>NaN</td>\n",
       "      <td>SassodiSole</td>\n",
       "    </tr>\n",
       "  </tbody>\n",
       "</table>\n",
       "</div>"
      ],
      "text/plain": [
       "      user_name    country                                       review_title  \\\n",
       "0   @paulgwine          US  Boedecker Cellars 2011 Athena Pinot Noir (Will...   \n",
       "1   @wineschach  Argentina  Mendoza Vineyards 2012 Gran Reserva by Richard...   \n",
       "2       @vboone         US                Prime 2013 Chardonnay (Coombsville)   \n",
       "3   @wineschach  Argentina  Bodega Cuarto Dominio 2012 Chento Vineyard Sel...   \n",
       "4  @kerinokeefe      Italy           SassodiSole 2012  Brunello di Montalcino   \n",
       "\n",
       "                                  review_description  \\\n",
       "0  Nicely differentiated from the companion Stewa...   \n",
       "1  Charred, smoky, herbal aromas of blackberry tr...   \n",
       "2  Slightly sour and funky in earth, this is a re...   \n",
       "3  This concentrated, midnight-black Malbec deliv...   \n",
       "4  Earthy aromas suggesting grilled porcini, leat...   \n",
       "\n",
       "                      designation  points  price          province  \\\n",
       "0                          Athena      88   35.0            Oregon   \n",
       "1  Gran Reserva by Richard Bonvin      90   60.0  Mendoza Province   \n",
       "2                             NaN      87   38.0        California   \n",
       "3       Chento Vineyard Selection      91   20.0  Mendoza Province   \n",
       "4                             NaN      90   49.0           Tuscany   \n",
       "\n",
       "                 region_1           region_2                 winery  \n",
       "0       Willamette Valley  Willamette Valley      Boedecker Cellars  \n",
       "1                 Mendoza                NaN      Mendoza Vineyards  \n",
       "2             Coombsville               Napa                  Prime  \n",
       "3                 Mendoza                NaN  Bodega Cuarto Dominio  \n",
       "4  Brunello di Montalcino                NaN            SassodiSole  "
      ]
     },
     "execution_count": 54,
     "metadata": {},
     "output_type": "execute_result"
    }
   ],
   "source": [
    "u_data = pd.read_csv(\"Data/test.csv\")\n",
    "u_data.head()"
   ]
  },
  {
   "cell_type": "code",
   "execution_count": 55,
   "metadata": {},
   "outputs": [
    {
     "data": {
      "text/plain": [
       "user_name              4738\n",
       "country                   4\n",
       "review_title              0\n",
       "review_description        0\n",
       "designation            5989\n",
       "points                    0\n",
       "price                  1394\n",
       "province                  4\n",
       "region_1               3314\n",
       "region_2              11751\n",
       "winery                    0\n",
       "dtype: int64"
      ]
     },
     "execution_count": 55,
     "metadata": {},
     "output_type": "execute_result"
    }
   ],
   "source": [
    "u_data.isnull().sum()"
   ]
  },
  {
   "cell_type": "code",
   "execution_count": 56,
   "metadata": {},
   "outputs": [],
   "source": [
    "test_data=u_data['review_description']"
   ]
  },
  {
   "cell_type": "code",
   "execution_count": 57,
   "metadata": {},
   "outputs": [],
   "source": [
    "from sklearn.feature_extraction.text import TfidfTransformer\n",
    "transformer = TfidfTransformer()\n",
    "loaded_vec = CountVectorizer(decode_error=\"replace\",vocabulary=pickle.load(open(\"feature.pkl\", \"rb\")))\n",
    "tfidf = transformer.fit_transform(loaded_vec.fit_transform(test_data))"
   ]
  },
  {
   "cell_type": "code",
   "execution_count": 58,
   "metadata": {},
   "outputs": [],
   "source": [
    "y_pred_test_data=cl.predict(tfidf)"
   ]
  },
  {
   "cell_type": "code",
   "execution_count": 60,
   "metadata": {},
   "outputs": [],
   "source": [
    "predictions_test = labelEncoder.inverse_transform(y_pred_test_data)"
   ]
  },
  {
   "cell_type": "code",
   "execution_count": 61,
   "metadata": {},
   "outputs": [
    {
     "data": {
      "text/plain": [
       "array(['Cabernet Sauvignon', 'Cabernet Sauvignon', 'Chardonnay', ...,\n",
       "       'Cabernet Sauvignon', 'Chardonnay', 'Cabernet Sauvignon'],\n",
       "      dtype=object)"
      ]
     },
     "execution_count": 61,
     "metadata": {},
     "output_type": "execute_result"
    }
   ],
   "source": [
    "(predictions_test)"
   ]
  },
  {
   "cell_type": "code",
   "execution_count": 62,
   "metadata": {},
   "outputs": [],
   "source": [
    "u_data['variety']=predictions_test"
   ]
  },
  {
   "cell_type": "code",
   "execution_count": 63,
   "metadata": {},
   "outputs": [
    {
     "data": {
      "text/html": [
       "<div>\n",
       "<style scoped>\n",
       "    .dataframe tbody tr th:only-of-type {\n",
       "        vertical-align: middle;\n",
       "    }\n",
       "\n",
       "    .dataframe tbody tr th {\n",
       "        vertical-align: top;\n",
       "    }\n",
       "\n",
       "    .dataframe thead th {\n",
       "        text-align: right;\n",
       "    }\n",
       "</style>\n",
       "<table border=\"1\" class=\"dataframe\">\n",
       "  <thead>\n",
       "    <tr style=\"text-align: right;\">\n",
       "      <th></th>\n",
       "      <th>user_name</th>\n",
       "      <th>country</th>\n",
       "      <th>review_title</th>\n",
       "      <th>review_description</th>\n",
       "      <th>designation</th>\n",
       "      <th>points</th>\n",
       "      <th>price</th>\n",
       "      <th>province</th>\n",
       "      <th>region_1</th>\n",
       "      <th>region_2</th>\n",
       "      <th>winery</th>\n",
       "      <th>variety</th>\n",
       "    </tr>\n",
       "  </thead>\n",
       "  <tbody>\n",
       "    <tr>\n",
       "      <th>0</th>\n",
       "      <td>@paulgwine</td>\n",
       "      <td>US</td>\n",
       "      <td>Boedecker Cellars 2011 Athena Pinot Noir (Will...</td>\n",
       "      <td>Nicely differentiated from the companion Stewa...</td>\n",
       "      <td>Athena</td>\n",
       "      <td>88</td>\n",
       "      <td>35.0</td>\n",
       "      <td>Oregon</td>\n",
       "      <td>Willamette Valley</td>\n",
       "      <td>Willamette Valley</td>\n",
       "      <td>Boedecker Cellars</td>\n",
       "      <td>Cabernet Sauvignon</td>\n",
       "    </tr>\n",
       "    <tr>\n",
       "      <th>1</th>\n",
       "      <td>@wineschach</td>\n",
       "      <td>Argentina</td>\n",
       "      <td>Mendoza Vineyards 2012 Gran Reserva by Richard...</td>\n",
       "      <td>Charred, smoky, herbal aromas of blackberry tr...</td>\n",
       "      <td>Gran Reserva by Richard Bonvin</td>\n",
       "      <td>90</td>\n",
       "      <td>60.0</td>\n",
       "      <td>Mendoza Province</td>\n",
       "      <td>Mendoza</td>\n",
       "      <td>NaN</td>\n",
       "      <td>Mendoza Vineyards</td>\n",
       "      <td>Cabernet Sauvignon</td>\n",
       "    </tr>\n",
       "    <tr>\n",
       "      <th>2</th>\n",
       "      <td>@vboone</td>\n",
       "      <td>US</td>\n",
       "      <td>Prime 2013 Chardonnay (Coombsville)</td>\n",
       "      <td>Slightly sour and funky in earth, this is a re...</td>\n",
       "      <td>NaN</td>\n",
       "      <td>87</td>\n",
       "      <td>38.0</td>\n",
       "      <td>California</td>\n",
       "      <td>Coombsville</td>\n",
       "      <td>Napa</td>\n",
       "      <td>Prime</td>\n",
       "      <td>Chardonnay</td>\n",
       "    </tr>\n",
       "    <tr>\n",
       "      <th>3</th>\n",
       "      <td>@wineschach</td>\n",
       "      <td>Argentina</td>\n",
       "      <td>Bodega Cuarto Dominio 2012 Chento Vineyard Sel...</td>\n",
       "      <td>This concentrated, midnight-black Malbec deliv...</td>\n",
       "      <td>Chento Vineyard Selection</td>\n",
       "      <td>91</td>\n",
       "      <td>20.0</td>\n",
       "      <td>Mendoza Province</td>\n",
       "      <td>Mendoza</td>\n",
       "      <td>NaN</td>\n",
       "      <td>Bodega Cuarto Dominio</td>\n",
       "      <td>Cabernet Sauvignon</td>\n",
       "    </tr>\n",
       "    <tr>\n",
       "      <th>4</th>\n",
       "      <td>@kerinokeefe</td>\n",
       "      <td>Italy</td>\n",
       "      <td>SassodiSole 2012  Brunello di Montalcino</td>\n",
       "      <td>Earthy aromas suggesting grilled porcini, leat...</td>\n",
       "      <td>NaN</td>\n",
       "      <td>90</td>\n",
       "      <td>49.0</td>\n",
       "      <td>Tuscany</td>\n",
       "      <td>Brunello di Montalcino</td>\n",
       "      <td>NaN</td>\n",
       "      <td>SassodiSole</td>\n",
       "      <td>Sangiovese</td>\n",
       "    </tr>\n",
       "  </tbody>\n",
       "</table>\n",
       "</div>"
      ],
      "text/plain": [
       "      user_name    country                                       review_title  \\\n",
       "0   @paulgwine          US  Boedecker Cellars 2011 Athena Pinot Noir (Will...   \n",
       "1   @wineschach  Argentina  Mendoza Vineyards 2012 Gran Reserva by Richard...   \n",
       "2       @vboone         US                Prime 2013 Chardonnay (Coombsville)   \n",
       "3   @wineschach  Argentina  Bodega Cuarto Dominio 2012 Chento Vineyard Sel...   \n",
       "4  @kerinokeefe      Italy           SassodiSole 2012  Brunello di Montalcino   \n",
       "\n",
       "                                  review_description  \\\n",
       "0  Nicely differentiated from the companion Stewa...   \n",
       "1  Charred, smoky, herbal aromas of blackberry tr...   \n",
       "2  Slightly sour and funky in earth, this is a re...   \n",
       "3  This concentrated, midnight-black Malbec deliv...   \n",
       "4  Earthy aromas suggesting grilled porcini, leat...   \n",
       "\n",
       "                      designation  points  price          province  \\\n",
       "0                          Athena      88   35.0            Oregon   \n",
       "1  Gran Reserva by Richard Bonvin      90   60.0  Mendoza Province   \n",
       "2                             NaN      87   38.0        California   \n",
       "3       Chento Vineyard Selection      91   20.0  Mendoza Province   \n",
       "4                             NaN      90   49.0           Tuscany   \n",
       "\n",
       "                 region_1           region_2                 winery  \\\n",
       "0       Willamette Valley  Willamette Valley      Boedecker Cellars   \n",
       "1                 Mendoza                NaN      Mendoza Vineyards   \n",
       "2             Coombsville               Napa                  Prime   \n",
       "3                 Mendoza                NaN  Bodega Cuarto Dominio   \n",
       "4  Brunello di Montalcino                NaN            SassodiSole   \n",
       "\n",
       "              variety  \n",
       "0  Cabernet Sauvignon  \n",
       "1  Cabernet Sauvignon  \n",
       "2          Chardonnay  \n",
       "3  Cabernet Sauvignon  \n",
       "4          Sangiovese  "
      ]
     },
     "execution_count": 63,
     "metadata": {},
     "output_type": "execute_result"
    }
   ],
   "source": [
    "u_data.head()"
   ]
  },
  {
   "cell_type": "code",
   "execution_count": 65,
   "metadata": {},
   "outputs": [],
   "source": [
    "u_data.to_csv('Submission.csv')"
   ]
  },
  {
   "cell_type": "code",
   "execution_count": null,
   "metadata": {},
   "outputs": [],
   "source": []
  }
 ],
 "metadata": {
  "kernelspec": {
   "display_name": "Python 3",
   "language": "python",
   "name": "python3"
  },
  "language_info": {
   "codemirror_mode": {
    "name": "ipython",
    "version": 3
   },
   "file_extension": ".py",
   "mimetype": "text/x-python",
   "name": "python",
   "nbconvert_exporter": "python",
   "pygments_lexer": "ipython3",
   "version": "3.7.6"
  }
 },
 "nbformat": 4,
 "nbformat_minor": 4
}
